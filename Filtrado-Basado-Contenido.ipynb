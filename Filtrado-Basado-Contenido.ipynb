{
 "cells": [
  {
   "cell_type": "markdown",
   "metadata": {
    "id": "Lzk7iX_CodX6",
    "tags": []
   },
   "source": [
    "# Sistemas de recomendación: filtrado basado en contenido\n",
    "\n",
    "Filtrado basado en contenido utilizando red neuronal (Deep Learning) para crear un sistema de recomendación de películas.\n",
    "\n",
    "\n",
    "## Esquema\n",
    "- [ 1 - Paquetes ](#1)\n",
    "- [ 2 - Conjunto de datos de clasificaciones de películas ](#2)\n",
    "- [ 3 - Filtrado basado en contenido con una red neuronal](#3)\n",
    "- [ 3.1 Datos de entrenamiento](#3.1)\n",
    "- [ 3.2 Preparación de los datos de entrenamiento](#3.2)\n",
    "- [ 4 - Red neuronal para filtrado basado en contenido](#4)\n",
    "- [ Implementación Algoritmo 1](#ex01)\n",
    "- [ 5 - Predicciones](#5)\n",
    "- [ 5.1 - Predicciones para un nuevo usuario](#5.1)\n",
    "- [ 5.2 - Predicciones para un usuario existente.](#5.2)\n",
    "- [ 5.3 - Búsqueda de elementos similares](#5.3)\n",
    "- [ Implementación Algoritmo 2](#ex02)\n",
    "- [ 6 - Conclusiones ](#6)\n"
   ]
  },
  {
   "cell_type": "markdown",
   "metadata": {},
   "source": [
    "## 1. Packages "
   ]
  },
  {
   "cell_type": "code",
   "execution_count": 12,
   "metadata": {
    "deletable": false,
    "editable": false,
    "id": "Xu-w_RmNwCV5"
   },
   "outputs": [],
   "source": [
    "# Librerias, Visualizacion, Procesamiento de datos\n",
    "\n",
    "import pandas as pd\n",
    "import numpy as np\n",
    "import numpy.ma as ma\n",
    "\n",
    "# Tensorflow, Red Neuronal\n",
    "import tensorflow as tf\n",
    "from tensorflow import keras\n",
    "\n",
    "# Procesameinto de datos\n",
    "from sklearn.preprocessing import StandardScaler, MinMaxScaler\n",
    "from sklearn.model_selection import train_test_split\n",
    "import tabulate\n",
    "\n",
    "# Libreria Personalizada:  # Leer y Procesar datos\n",
    "from recsysNN_utils import *\n",
    "\n",
    "pd.set_option(\"display.precision\", 1)\n",
    "pd.set_option('display.max_columns', None)\n",
    "\n",
    "import warnings\n",
    "warnings.filterwarnings('ignore')"
   ]
  },
  {
   "cell_type": "markdown",
   "metadata": {},
   "source": [
    "\n",
    "## 2 Conjunto de datos de calificaciones de películas\n",
    "El conjunto de datos se deriva del conjunto de datos [MovieLens ml-latest-small](https://grouplens.org/datasets/movielens/latest/).\n",
    "\n",
    "[F. Maxwell Harper y Joseph A. Konstan. 2015. Los conjuntos de datos de MovieLens: historia y contexto. ACM Transactions on Interactive Intelligent Systems (TiiS) 5, 4: 19:1–19:19. <https://doi.org/10.1145/2827872>]\n",
    "\n",
    "El conjunto de datos original tiene aproximadamente 9000 películas calificadas por 600 usuarios con calificaciones en una escala de 0,5 a 5 en incrementos de 0,5 pasos. El conjunto de datos se ha reducido en tamaño para centrarse en películas de los años posteriores al 2000 y en géneros populares. El conjunto de datos reducido tiene $n_u = 397$ usuarios, $n_m = 847$ películas y 25521 calificaciones. Para cada película, el conjunto de datos proporciona un título de película, fecha de lanzamiento y uno o más géneros. Por ejemplo, \"Toy Story 3\" se estrenó en 2010 y tiene varios géneros: \"Aventura|Animación|Infantil|Comedia|Fantasía\". Este conjunto de datos contiene poca información sobre los usuarios aparte de sus calificaciones. Este conjunto de datos se utiliza para crear vectores de entrenamiento para las redes neuronales que se describen a continuación."
   ]
  },
  {
   "cell_type": "code",
   "execution_count": 2,
   "metadata": {
    "deletable": false,
    "editable": false
   },
   "outputs": [
    {
     "data": {
      "text/html": [
       "<div>\n",
       "<style scoped>\n",
       "    .dataframe tbody tr th:only-of-type {\n",
       "        vertical-align: middle;\n",
       "    }\n",
       "\n",
       "    .dataframe tbody tr th {\n",
       "        vertical-align: top;\n",
       "    }\n",
       "\n",
       "    .dataframe thead th {\n",
       "        text-align: right;\n",
       "    }\n",
       "</style>\n",
       "<table border=\"1\" class=\"dataframe\">\n",
       "  <thead>\n",
       "    <tr style=\"text-align: right;\">\n",
       "      <th></th>\n",
       "      <th>movie id</th>\n",
       "      <th>num ratings</th>\n",
       "      <th>ave rating</th>\n",
       "      <th>title</th>\n",
       "      <th>genres</th>\n",
       "    </tr>\n",
       "  </thead>\n",
       "  <tbody>\n",
       "    <tr>\n",
       "      <th>0</th>\n",
       "      <td>4993</td>\n",
       "      <td>198</td>\n",
       "      <td>4.1</td>\n",
       "      <td>Lord of the Rings: The Fellowship of the Ring,...</td>\n",
       "      <td>Adventure|Fantasy</td>\n",
       "    </tr>\n",
       "    <tr>\n",
       "      <th>1</th>\n",
       "      <td>5952</td>\n",
       "      <td>188</td>\n",
       "      <td>4.0</td>\n",
       "      <td>Lord of the Rings: The Two Towers, The</td>\n",
       "      <td>Adventure|Fantasy</td>\n",
       "    </tr>\n",
       "    <tr>\n",
       "      <th>2</th>\n",
       "      <td>7153</td>\n",
       "      <td>185</td>\n",
       "      <td>4.1</td>\n",
       "      <td>Lord of the Rings: The Return of the King, The</td>\n",
       "      <td>Action|Adventure|Drama|Fantasy</td>\n",
       "    </tr>\n",
       "    <tr>\n",
       "      <th>3</th>\n",
       "      <td>4306</td>\n",
       "      <td>170</td>\n",
       "      <td>3.9</td>\n",
       "      <td>Shrek</td>\n",
       "      <td>Adventure|Animation|Children|Comedy|Fantasy|Ro...</td>\n",
       "    </tr>\n",
       "    <tr>\n",
       "      <th>4</th>\n",
       "      <td>58559</td>\n",
       "      <td>149</td>\n",
       "      <td>4.2</td>\n",
       "      <td>Dark Knight, The</td>\n",
       "      <td>Action|Crime|Drama</td>\n",
       "    </tr>\n",
       "    <tr>\n",
       "      <th>5</th>\n",
       "      <td>6539</td>\n",
       "      <td>149</td>\n",
       "      <td>3.8</td>\n",
       "      <td>Pirates of the Caribbean: The Curse of the Bla...</td>\n",
       "      <td>Action|Adventure|Comedy|Fantasy</td>\n",
       "    </tr>\n",
       "    <tr>\n",
       "      <th>6</th>\n",
       "      <td>79132</td>\n",
       "      <td>143</td>\n",
       "      <td>4.1</td>\n",
       "      <td>Inception</td>\n",
       "      <td>Action|Crime|Drama|Mystery|Sci-Fi|Thriller</td>\n",
       "    </tr>\n",
       "    <tr>\n",
       "      <th>7</th>\n",
       "      <td>6377</td>\n",
       "      <td>141</td>\n",
       "      <td>4.0</td>\n",
       "      <td>Finding Nemo</td>\n",
       "      <td>Adventure|Animation|Children|Comedy</td>\n",
       "    </tr>\n",
       "    <tr>\n",
       "      <th>8</th>\n",
       "      <td>4886</td>\n",
       "      <td>132</td>\n",
       "      <td>3.9</td>\n",
       "      <td>Monsters, Inc.</td>\n",
       "      <td>Adventure|Animation|Children|Comedy|Fantasy</td>\n",
       "    </tr>\n",
       "    <tr>\n",
       "      <th>9</th>\n",
       "      <td>7361</td>\n",
       "      <td>131</td>\n",
       "      <td>4.2</td>\n",
       "      <td>Eternal Sunshine of the Spotless Mind</td>\n",
       "      <td>Drama|Romance|Sci-Fi</td>\n",
       "    </tr>\n",
       "  </tbody>\n",
       "</table>\n",
       "</div>"
      ],
      "text/plain": [
       "   movie id  num ratings  ave rating  \\\n",
       "0      4993          198         4.1   \n",
       "1      5952          188         4.0   \n",
       "2      7153          185         4.1   \n",
       "3      4306          170         3.9   \n",
       "4     58559          149         4.2   \n",
       "5      6539          149         3.8   \n",
       "6     79132          143         4.1   \n",
       "7      6377          141         4.0   \n",
       "8      4886          132         3.9   \n",
       "9      7361          131         4.2   \n",
       "\n",
       "                                               title  \\\n",
       "0  Lord of the Rings: The Fellowship of the Ring,...   \n",
       "1             Lord of the Rings: The Two Towers, The   \n",
       "2     Lord of the Rings: The Return of the King, The   \n",
       "3                                              Shrek   \n",
       "4                                   Dark Knight, The   \n",
       "5  Pirates of the Caribbean: The Curse of the Bla...   \n",
       "6                                          Inception   \n",
       "7                                       Finding Nemo   \n",
       "8                                     Monsters, Inc.   \n",
       "9              Eternal Sunshine of the Spotless Mind   \n",
       "\n",
       "                                              genres  \n",
       "0                                  Adventure|Fantasy  \n",
       "1                                  Adventure|Fantasy  \n",
       "2                     Action|Adventure|Drama|Fantasy  \n",
       "3  Adventure|Animation|Children|Comedy|Fantasy|Ro...  \n",
       "4                                 Action|Crime|Drama  \n",
       "5                    Action|Adventure|Comedy|Fantasy  \n",
       "6         Action|Crime|Drama|Mystery|Sci-Fi|Thriller  \n",
       "7                Adventure|Animation|Children|Comedy  \n",
       "8        Adventure|Animation|Children|Comedy|Fantasy  \n",
       "9                               Drama|Romance|Sci-Fi  "
      ]
     },
     "execution_count": 2,
     "metadata": {},
     "output_type": "execute_result"
    }
   ],
   "source": [
    "# Set de datos\n",
    "\n",
    "top10_df = pd.read_csv(\"./data/content_top10_df.csv\")\n",
    "bygenre_df = pd.read_csv(\"./data/content_bygenre_df.csv\")\n",
    "top10_df"
   ]
  },
  {
   "cell_type": "markdown",
   "metadata": {},
   "source": [
    "La siguiente tabla muestra información ordenada por género. La cantidad de calificaciones por género varía considerablemente. Tenga en cuenta que una película puede tener varios géneros, por lo que la suma de las calificaciones que se muestran a continuación es mayor que la cantidad de calificaciones originales."
   ]
  },
  {
   "cell_type": "code",
   "execution_count": 3,
   "metadata": {
    "deletable": false,
    "editable": false
   },
   "outputs": [
    {
     "data": {
      "text/html": [
       "<div>\n",
       "<style scoped>\n",
       "    .dataframe tbody tr th:only-of-type {\n",
       "        vertical-align: middle;\n",
       "    }\n",
       "\n",
       "    .dataframe tbody tr th {\n",
       "        vertical-align: top;\n",
       "    }\n",
       "\n",
       "    .dataframe thead th {\n",
       "        text-align: right;\n",
       "    }\n",
       "</style>\n",
       "<table border=\"1\" class=\"dataframe\">\n",
       "  <thead>\n",
       "    <tr style=\"text-align: right;\">\n",
       "      <th></th>\n",
       "      <th>genre</th>\n",
       "      <th>num movies</th>\n",
       "      <th>ave rating/genre</th>\n",
       "      <th>ratings per genre</th>\n",
       "    </tr>\n",
       "  </thead>\n",
       "  <tbody>\n",
       "    <tr>\n",
       "      <th>0</th>\n",
       "      <td>Action</td>\n",
       "      <td>321</td>\n",
       "      <td>3.4</td>\n",
       "      <td>10377</td>\n",
       "    </tr>\n",
       "    <tr>\n",
       "      <th>1</th>\n",
       "      <td>Adventure</td>\n",
       "      <td>234</td>\n",
       "      <td>3.4</td>\n",
       "      <td>8785</td>\n",
       "    </tr>\n",
       "    <tr>\n",
       "      <th>2</th>\n",
       "      <td>Animation</td>\n",
       "      <td>76</td>\n",
       "      <td>3.6</td>\n",
       "      <td>2588</td>\n",
       "    </tr>\n",
       "    <tr>\n",
       "      <th>3</th>\n",
       "      <td>Children</td>\n",
       "      <td>69</td>\n",
       "      <td>3.4</td>\n",
       "      <td>2472</td>\n",
       "    </tr>\n",
       "    <tr>\n",
       "      <th>4</th>\n",
       "      <td>Comedy</td>\n",
       "      <td>326</td>\n",
       "      <td>3.4</td>\n",
       "      <td>8911</td>\n",
       "    </tr>\n",
       "    <tr>\n",
       "      <th>5</th>\n",
       "      <td>Crime</td>\n",
       "      <td>139</td>\n",
       "      <td>3.5</td>\n",
       "      <td>4671</td>\n",
       "    </tr>\n",
       "    <tr>\n",
       "      <th>6</th>\n",
       "      <td>Documentary</td>\n",
       "      <td>13</td>\n",
       "      <td>3.8</td>\n",
       "      <td>280</td>\n",
       "    </tr>\n",
       "    <tr>\n",
       "      <th>7</th>\n",
       "      <td>Drama</td>\n",
       "      <td>342</td>\n",
       "      <td>3.6</td>\n",
       "      <td>10201</td>\n",
       "    </tr>\n",
       "    <tr>\n",
       "      <th>8</th>\n",
       "      <td>Fantasy</td>\n",
       "      <td>124</td>\n",
       "      <td>3.4</td>\n",
       "      <td>4468</td>\n",
       "    </tr>\n",
       "    <tr>\n",
       "      <th>9</th>\n",
       "      <td>Horror</td>\n",
       "      <td>56</td>\n",
       "      <td>3.2</td>\n",
       "      <td>1345</td>\n",
       "    </tr>\n",
       "    <tr>\n",
       "      <th>10</th>\n",
       "      <td>Mystery</td>\n",
       "      <td>68</td>\n",
       "      <td>3.6</td>\n",
       "      <td>2497</td>\n",
       "    </tr>\n",
       "    <tr>\n",
       "      <th>11</th>\n",
       "      <td>Romance</td>\n",
       "      <td>151</td>\n",
       "      <td>3.4</td>\n",
       "      <td>4468</td>\n",
       "    </tr>\n",
       "    <tr>\n",
       "      <th>12</th>\n",
       "      <td>Sci-Fi</td>\n",
       "      <td>174</td>\n",
       "      <td>3.4</td>\n",
       "      <td>5894</td>\n",
       "    </tr>\n",
       "    <tr>\n",
       "      <th>13</th>\n",
       "      <td>Thriller</td>\n",
       "      <td>245</td>\n",
       "      <td>3.4</td>\n",
       "      <td>7659</td>\n",
       "    </tr>\n",
       "  </tbody>\n",
       "</table>\n",
       "</div>"
      ],
      "text/plain": [
       "          genre  num movies  ave rating/genre  ratings per genre\n",
       "0        Action         321               3.4              10377\n",
       "1     Adventure         234               3.4               8785\n",
       "2     Animation          76               3.6               2588\n",
       "3      Children          69               3.4               2472\n",
       "4        Comedy         326               3.4               8911\n",
       "5         Crime         139               3.5               4671\n",
       "6   Documentary          13               3.8                280\n",
       "7         Drama         342               3.6              10201\n",
       "8       Fantasy         124               3.4               4468\n",
       "9        Horror          56               3.2               1345\n",
       "10      Mystery          68               3.6               2497\n",
       "11      Romance         151               3.4               4468\n",
       "12       Sci-Fi         174               3.4               5894\n",
       "13     Thriller         245               3.4               7659"
      ]
     },
     "execution_count": 3,
     "metadata": {},
     "output_type": "execute_result"
    }
   ],
   "source": [
    "bygenre_df"
   ]
  },
  {
   "cell_type": "markdown",
   "metadata": {},
   "source": [
    "## 3. Filtrado basado en contenido con una red neuronal\n",
    "\n",
    "filtrado colaborativo = 2 vectoresdos vectores, un vector de usuario y un vector de elemento/película cuyo producto escalar predeciría una calificación. Los vectores se derivaron únicamente de las calificaciones.\n",
    "\n",
    "El filtrado basado en contenido también genera un vector de características de usuario y película, pero reconoce que puede haber otra información disponible sobre el usuario o la película que pueda mejorar la predicción. La información adicional se proporciona a una red neuronal que luego genera el vector de usuario y película como se muestra a continuación.\n",
    "\n",
    "### 3.1 Datos de entrenamiento\n",
    "El contenido de la película proporcionado a la red es una combinación de los datos originales y algunas \"características diseñadas\". Características originales son el año en que se estrenó la película y el género de la película se presenta como un vector único. Hay 14 géneros. La característica diseñada es una calificación promedio derivada de las calificaciones de los usuarios.\n",
    "\n",
    "El contenido del usuario está compuesto de características diseñadas. Se calcula una calificación promedio por género por usuario. Además, están disponibles una identificación de usuario, un recuento de calificaciones y un promedio de calificaciones, pero no se incluyen en el contenido de entrenamiento o predicción. Se incluyen con el conjunto de datos porque son útiles para interpretar los datos.\n",
    "\n",
    "El conjunto de entrenamiento consta de todas las calificaciones realizadas por los usuarios en el conjunto de datos. Algunas calificaciones se repiten para aumentar la cantidad de ejemplos de entrenamiento de géneros subrepresentados. El conjunto de entrenamiento se divide en dos matrices con la misma cantidad de entradas, una matriz de usuario y una matriz de película/artículo."
   ]
  },
  {
   "cell_type": "code",
   "execution_count": 4,
   "metadata": {
    "deletable": false,
    "editable": false,
    "id": "M5gfMLYgxCD1"
   },
   "outputs": [
    {
     "name": "stdout",
     "output_type": "stream",
     "text": [
      "Number of training vectors: 50884\n"
     ]
    }
   ],
   "source": [
    "# Cargar datos, establecer variables de configuración\n",
    "item_train, user_train, y_train, item_features, user_features, item_vecs, movie_dict, user_to_genre = load_data()\n",
    "\n",
    "num_user_features = user_train.shape[1] - 3 # eliminar ID de usuario, recuento de calificaciones y calificación promedio para el entrenamiento\n",
    "num_item_features = item_train.shape[1] - 1  # eliminar el ID de la película a la hora de Entrenar\n",
    "\n",
    "\n",
    "uvs = 3 # inicio del vector de género del usuario\n",
    "ivs = 3 # inicio del vector de género del elemento\n",
    "u_s = 3 # inicio de las columnas a utilizar en el entrenamiento, usuario\n",
    "i_s = 1 # inicio de las columnas a utilizar en el entrenamiento, elementos\n",
    "print(f\"Número de vectores de entrenamiento: {len(item_train)}\")"
   ]
  },
  {
   "cell_type": "code",
   "execution_count": 5,
   "metadata": {
    "deletable": false,
    "editable": false
   },
   "outputs": [
    {
     "data": {
      "text/html": [
       "<table>\n",
       "<thead>\n",
       "<tr><th style=\"text-align: center;\"> [user id] </th><th style=\"text-align: center;\"> [rating count] </th><th style=\"text-align: center;\"> [rating ave] </th><th style=\"text-align: center;\"> Act ion </th><th style=\"text-align: center;\"> Adve nture </th><th style=\"text-align: center;\"> Anim ation </th><th style=\"text-align: center;\"> Chil dren </th><th style=\"text-align: center;\"> Com edy </th><th style=\"text-align: center;\"> Crime </th><th style=\"text-align: center;\"> Docum entary </th><th style=\"text-align: center;\"> Drama </th><th style=\"text-align: center;\"> Fan tasy </th><th style=\"text-align: center;\"> Hor ror </th><th style=\"text-align: center;\"> Mys tery </th><th style=\"text-align: center;\"> Rom ance </th><th style=\"text-align: center;\"> Sci -Fi </th><th style=\"text-align: center;\"> Thri ller </th></tr>\n",
       "</thead>\n",
       "<tbody>\n",
       "<tr><td style=\"text-align: center;\">     2     </td><td style=\"text-align: center;\">       22       </td><td style=\"text-align: center;\">     4.0      </td><td style=\"text-align: center;\">   4.0   </td><td style=\"text-align: center;\">    4.2     </td><td style=\"text-align: center;\">    0.0     </td><td style=\"text-align: center;\">    0.0    </td><td style=\"text-align: center;\">   4.0   </td><td style=\"text-align: center;\">  4.1  </td><td style=\"text-align: center;\">     4.0      </td><td style=\"text-align: center;\">  4.0  </td><td style=\"text-align: center;\">   0.0    </td><td style=\"text-align: center;\">   3.0   </td><td style=\"text-align: center;\">   4.0    </td><td style=\"text-align: center;\">   0.0    </td><td style=\"text-align: center;\">   3.9   </td><td style=\"text-align: center;\">    3.9    </td></tr>\n",
       "<tr><td style=\"text-align: center;\">     2     </td><td style=\"text-align: center;\">       22       </td><td style=\"text-align: center;\">     4.0      </td><td style=\"text-align: center;\">   4.0   </td><td style=\"text-align: center;\">    4.2     </td><td style=\"text-align: center;\">    0.0     </td><td style=\"text-align: center;\">    0.0    </td><td style=\"text-align: center;\">   4.0   </td><td style=\"text-align: center;\">  4.1  </td><td style=\"text-align: center;\">     4.0      </td><td style=\"text-align: center;\">  4.0  </td><td style=\"text-align: center;\">   0.0    </td><td style=\"text-align: center;\">   3.0   </td><td style=\"text-align: center;\">   4.0    </td><td style=\"text-align: center;\">   0.0    </td><td style=\"text-align: center;\">   3.9   </td><td style=\"text-align: center;\">    3.9    </td></tr>\n",
       "<tr><td style=\"text-align: center;\">     2     </td><td style=\"text-align: center;\">       22       </td><td style=\"text-align: center;\">     4.0      </td><td style=\"text-align: center;\">   4.0   </td><td style=\"text-align: center;\">    4.2     </td><td style=\"text-align: center;\">    0.0     </td><td style=\"text-align: center;\">    0.0    </td><td style=\"text-align: center;\">   4.0   </td><td style=\"text-align: center;\">  4.1  </td><td style=\"text-align: center;\">     4.0      </td><td style=\"text-align: center;\">  4.0  </td><td style=\"text-align: center;\">   0.0    </td><td style=\"text-align: center;\">   3.0   </td><td style=\"text-align: center;\">   4.0    </td><td style=\"text-align: center;\">   0.0    </td><td style=\"text-align: center;\">   3.9   </td><td style=\"text-align: center;\">    3.9    </td></tr>\n",
       "<tr><td style=\"text-align: center;\">     2     </td><td style=\"text-align: center;\">       22       </td><td style=\"text-align: center;\">     4.0      </td><td style=\"text-align: center;\">   4.0   </td><td style=\"text-align: center;\">    4.2     </td><td style=\"text-align: center;\">    0.0     </td><td style=\"text-align: center;\">    0.0    </td><td style=\"text-align: center;\">   4.0   </td><td style=\"text-align: center;\">  4.1  </td><td style=\"text-align: center;\">     4.0      </td><td style=\"text-align: center;\">  4.0  </td><td style=\"text-align: center;\">   0.0    </td><td style=\"text-align: center;\">   3.0   </td><td style=\"text-align: center;\">   4.0    </td><td style=\"text-align: center;\">   0.0    </td><td style=\"text-align: center;\">   3.9   </td><td style=\"text-align: center;\">    3.9    </td></tr>\n",
       "<tr><td style=\"text-align: center;\">     2     </td><td style=\"text-align: center;\">       22       </td><td style=\"text-align: center;\">     4.0      </td><td style=\"text-align: center;\">   4.0   </td><td style=\"text-align: center;\">    4.2     </td><td style=\"text-align: center;\">    0.0     </td><td style=\"text-align: center;\">    0.0    </td><td style=\"text-align: center;\">   4.0   </td><td style=\"text-align: center;\">  4.1  </td><td style=\"text-align: center;\">     4.0      </td><td style=\"text-align: center;\">  4.0  </td><td style=\"text-align: center;\">   0.0    </td><td style=\"text-align: center;\">   3.0   </td><td style=\"text-align: center;\">   4.0    </td><td style=\"text-align: center;\">   0.0    </td><td style=\"text-align: center;\">   3.9   </td><td style=\"text-align: center;\">    3.9    </td></tr>\n",
       "</tbody>\n",
       "</table>"
      ],
      "text/plain": [
       "'<table>\\n<thead>\\n<tr><th style=\"text-align: center;\"> [user id] </th><th style=\"text-align: center;\"> [rating count] </th><th style=\"text-align: center;\"> [rating ave] </th><th style=\"text-align: center;\"> Act ion </th><th style=\"text-align: center;\"> Adve nture </th><th style=\"text-align: center;\"> Anim ation </th><th style=\"text-align: center;\"> Chil dren </th><th style=\"text-align: center;\"> Com edy </th><th style=\"text-align: center;\"> Crime </th><th style=\"text-align: center;\"> Docum entary </th><th style=\"text-align: center;\"> Drama </th><th style=\"text-align: center;\"> Fan tasy </th><th style=\"text-align: center;\"> Hor ror </th><th style=\"text-align: center;\"> Mys tery </th><th style=\"text-align: center;\"> Rom ance </th><th style=\"text-align: center;\"> Sci -Fi </th><th style=\"text-align: center;\"> Thri ller </th></tr>\\n</thead>\\n<tbody>\\n<tr><td style=\"text-align: center;\">     2     </td><td style=\"text-align: center;\">       22       </td><td style=\"text-align: center;\">     4.0      </td><td style=\"text-align: center;\">   4.0   </td><td style=\"text-align: center;\">    4.2     </td><td style=\"text-align: center;\">    0.0     </td><td style=\"text-align: center;\">    0.0    </td><td style=\"text-align: center;\">   4.0   </td><td style=\"text-align: center;\">  4.1  </td><td style=\"text-align: center;\">     4.0      </td><td style=\"text-align: center;\">  4.0  </td><td style=\"text-align: center;\">   0.0    </td><td style=\"text-align: center;\">   3.0   </td><td style=\"text-align: center;\">   4.0    </td><td style=\"text-align: center;\">   0.0    </td><td style=\"text-align: center;\">   3.9   </td><td style=\"text-align: center;\">    3.9    </td></tr>\\n<tr><td style=\"text-align: center;\">     2     </td><td style=\"text-align: center;\">       22       </td><td style=\"text-align: center;\">     4.0      </td><td style=\"text-align: center;\">   4.0   </td><td style=\"text-align: center;\">    4.2     </td><td style=\"text-align: center;\">    0.0     </td><td style=\"text-align: center;\">    0.0    </td><td style=\"text-align: center;\">   4.0   </td><td style=\"text-align: center;\">  4.1  </td><td style=\"text-align: center;\">     4.0      </td><td style=\"text-align: center;\">  4.0  </td><td style=\"text-align: center;\">   0.0    </td><td style=\"text-align: center;\">   3.0   </td><td style=\"text-align: center;\">   4.0    </td><td style=\"text-align: center;\">   0.0    </td><td style=\"text-align: center;\">   3.9   </td><td style=\"text-align: center;\">    3.9    </td></tr>\\n<tr><td style=\"text-align: center;\">     2     </td><td style=\"text-align: center;\">       22       </td><td style=\"text-align: center;\">     4.0      </td><td style=\"text-align: center;\">   4.0   </td><td style=\"text-align: center;\">    4.2     </td><td style=\"text-align: center;\">    0.0     </td><td style=\"text-align: center;\">    0.0    </td><td style=\"text-align: center;\">   4.0   </td><td style=\"text-align: center;\">  4.1  </td><td style=\"text-align: center;\">     4.0      </td><td style=\"text-align: center;\">  4.0  </td><td style=\"text-align: center;\">   0.0    </td><td style=\"text-align: center;\">   3.0   </td><td style=\"text-align: center;\">   4.0    </td><td style=\"text-align: center;\">   0.0    </td><td style=\"text-align: center;\">   3.9   </td><td style=\"text-align: center;\">    3.9    </td></tr>\\n<tr><td style=\"text-align: center;\">     2     </td><td style=\"text-align: center;\">       22       </td><td style=\"text-align: center;\">     4.0      </td><td style=\"text-align: center;\">   4.0   </td><td style=\"text-align: center;\">    4.2     </td><td style=\"text-align: center;\">    0.0     </td><td style=\"text-align: center;\">    0.0    </td><td style=\"text-align: center;\">   4.0   </td><td style=\"text-align: center;\">  4.1  </td><td style=\"text-align: center;\">     4.0      </td><td style=\"text-align: center;\">  4.0  </td><td style=\"text-align: center;\">   0.0    </td><td style=\"text-align: center;\">   3.0   </td><td style=\"text-align: center;\">   4.0    </td><td style=\"text-align: center;\">   0.0    </td><td style=\"text-align: center;\">   3.9   </td><td style=\"text-align: center;\">    3.9    </td></tr>\\n<tr><td style=\"text-align: center;\">     2     </td><td style=\"text-align: center;\">       22       </td><td style=\"text-align: center;\">     4.0      </td><td style=\"text-align: center;\">   4.0   </td><td style=\"text-align: center;\">    4.2     </td><td style=\"text-align: center;\">    0.0     </td><td style=\"text-align: center;\">    0.0    </td><td style=\"text-align: center;\">   4.0   </td><td style=\"text-align: center;\">  4.1  </td><td style=\"text-align: center;\">     4.0      </td><td style=\"text-align: center;\">  4.0  </td><td style=\"text-align: center;\">   0.0    </td><td style=\"text-align: center;\">   3.0   </td><td style=\"text-align: center;\">   4.0    </td><td style=\"text-align: center;\">   0.0    </td><td style=\"text-align: center;\">   3.9   </td><td style=\"text-align: center;\">    3.9    </td></tr>\\n</tbody>\\n</table>'"
      ]
     },
     "execution_count": 5,
     "metadata": {},
     "output_type": "execute_result"
    }
   ],
   "source": [
    "# primeras entradas en la matriz de entrenamiento del usuario.\n",
    "pprint_train(user_train, user_features, uvs,  u_s, maxcount=5)"
   ]
  },
  {
   "cell_type": "markdown",
   "metadata": {},
   "source": [
    "Algunas de las características de usuario y de elemento/película no se utilizan en el entrenamiento. En la tabla anterior, las características entre corchetes \"[]\", como \"identificación de usuario\", \"número de calificaciones\" y \"promedio de calificaciones\", no se incluyen cuando se entrena y utiliza el modelo.\n",
    "Arriba puede ver el promedio de calificaciones por género para el usuario 2. Las entradas cero son géneros que el usuario no ha calificado. El vector de usuario es el mismo para todas las películas calificadas por un usuario.\n",
    "Veamos las primeras entradas de la matriz de películas/elementos."
   ]
  },
  {
   "cell_type": "code",
   "execution_count": 6,
   "metadata": {
    "deletable": false,
    "editable": false
   },
   "outputs": [
    {
     "data": {
      "text/html": [
       "<table>\n",
       "<thead>\n",
       "<tr><th style=\"text-align: center;\"> [movie id] </th><th style=\"text-align: center;\"> year </th><th style=\"text-align: center;\"> ave rating </th><th style=\"text-align: center;\"> Act ion </th><th style=\"text-align: center;\"> Adve nture </th><th style=\"text-align: center;\"> Anim ation </th><th style=\"text-align: center;\"> Chil dren </th><th style=\"text-align: center;\"> Com edy </th><th style=\"text-align: center;\"> Crime </th><th style=\"text-align: center;\"> Docum entary </th><th style=\"text-align: center;\"> Drama </th><th style=\"text-align: center;\"> Fan tasy </th><th style=\"text-align: center;\"> Hor ror </th><th style=\"text-align: center;\"> Mys tery </th><th style=\"text-align: center;\"> Rom ance </th><th style=\"text-align: center;\"> Sci -Fi </th><th style=\"text-align: center;\"> Thri ller </th></tr>\n",
       "</thead>\n",
       "<tbody>\n",
       "<tr><td style=\"text-align: center;\">    6874    </td><td style=\"text-align: center;\"> 2003 </td><td style=\"text-align: center;\">    4.0     </td><td style=\"text-align: center;\">    1    </td><td style=\"text-align: center;\">     0      </td><td style=\"text-align: center;\">     0      </td><td style=\"text-align: center;\">     0     </td><td style=\"text-align: center;\">    0    </td><td style=\"text-align: center;\">   1   </td><td style=\"text-align: center;\">      0       </td><td style=\"text-align: center;\">   0   </td><td style=\"text-align: center;\">    0     </td><td style=\"text-align: center;\">    0    </td><td style=\"text-align: center;\">    0     </td><td style=\"text-align: center;\">    0     </td><td style=\"text-align: center;\">    0    </td><td style=\"text-align: center;\">     1     </td></tr>\n",
       "<tr><td style=\"text-align: center;\">    8798    </td><td style=\"text-align: center;\"> 2004 </td><td style=\"text-align: center;\">    3.8     </td><td style=\"text-align: center;\">    1    </td><td style=\"text-align: center;\">     0      </td><td style=\"text-align: center;\">     0      </td><td style=\"text-align: center;\">     0     </td><td style=\"text-align: center;\">    0    </td><td style=\"text-align: center;\">   1   </td><td style=\"text-align: center;\">      0       </td><td style=\"text-align: center;\">   1   </td><td style=\"text-align: center;\">    0     </td><td style=\"text-align: center;\">    0    </td><td style=\"text-align: center;\">    0     </td><td style=\"text-align: center;\">    0     </td><td style=\"text-align: center;\">    0    </td><td style=\"text-align: center;\">     1     </td></tr>\n",
       "<tr><td style=\"text-align: center;\">   46970    </td><td style=\"text-align: center;\"> 2006 </td><td style=\"text-align: center;\">    3.2     </td><td style=\"text-align: center;\">    1    </td><td style=\"text-align: center;\">     0      </td><td style=\"text-align: center;\">     0      </td><td style=\"text-align: center;\">     0     </td><td style=\"text-align: center;\">    1    </td><td style=\"text-align: center;\">   0   </td><td style=\"text-align: center;\">      0       </td><td style=\"text-align: center;\">   0   </td><td style=\"text-align: center;\">    0     </td><td style=\"text-align: center;\">    0    </td><td style=\"text-align: center;\">    0     </td><td style=\"text-align: center;\">    0     </td><td style=\"text-align: center;\">    0    </td><td style=\"text-align: center;\">     0     </td></tr>\n",
       "<tr><td style=\"text-align: center;\">   48516    </td><td style=\"text-align: center;\"> 2006 </td><td style=\"text-align: center;\">    4.3     </td><td style=\"text-align: center;\">    0    </td><td style=\"text-align: center;\">     0      </td><td style=\"text-align: center;\">     0      </td><td style=\"text-align: center;\">     0     </td><td style=\"text-align: center;\">    0    </td><td style=\"text-align: center;\">   1   </td><td style=\"text-align: center;\">      0       </td><td style=\"text-align: center;\">   1   </td><td style=\"text-align: center;\">    0     </td><td style=\"text-align: center;\">    0    </td><td style=\"text-align: center;\">    0     </td><td style=\"text-align: center;\">    0     </td><td style=\"text-align: center;\">    0    </td><td style=\"text-align: center;\">     1     </td></tr>\n",
       "<tr><td style=\"text-align: center;\">   58559    </td><td style=\"text-align: center;\"> 2008 </td><td style=\"text-align: center;\">    4.2     </td><td style=\"text-align: center;\">    1    </td><td style=\"text-align: center;\">     0      </td><td style=\"text-align: center;\">     0      </td><td style=\"text-align: center;\">     0     </td><td style=\"text-align: center;\">    0    </td><td style=\"text-align: center;\">   1   </td><td style=\"text-align: center;\">      0       </td><td style=\"text-align: center;\">   1   </td><td style=\"text-align: center;\">    0     </td><td style=\"text-align: center;\">    0    </td><td style=\"text-align: center;\">    0     </td><td style=\"text-align: center;\">    0     </td><td style=\"text-align: center;\">    0    </td><td style=\"text-align: center;\">     0     </td></tr>\n",
       "</tbody>\n",
       "</table>"
      ],
      "text/plain": [
       "'<table>\\n<thead>\\n<tr><th style=\"text-align: center;\"> [movie id] </th><th style=\"text-align: center;\"> year </th><th style=\"text-align: center;\"> ave rating </th><th style=\"text-align: center;\"> Act ion </th><th style=\"text-align: center;\"> Adve nture </th><th style=\"text-align: center;\"> Anim ation </th><th style=\"text-align: center;\"> Chil dren </th><th style=\"text-align: center;\"> Com edy </th><th style=\"text-align: center;\"> Crime </th><th style=\"text-align: center;\"> Docum entary </th><th style=\"text-align: center;\"> Drama </th><th style=\"text-align: center;\"> Fan tasy </th><th style=\"text-align: center;\"> Hor ror </th><th style=\"text-align: center;\"> Mys tery </th><th style=\"text-align: center;\"> Rom ance </th><th style=\"text-align: center;\"> Sci -Fi </th><th style=\"text-align: center;\"> Thri ller </th></tr>\\n</thead>\\n<tbody>\\n<tr><td style=\"text-align: center;\">    6874    </td><td style=\"text-align: center;\"> 2003 </td><td style=\"text-align: center;\">    4.0     </td><td style=\"text-align: center;\">    1    </td><td style=\"text-align: center;\">     0      </td><td style=\"text-align: center;\">     0      </td><td style=\"text-align: center;\">     0     </td><td style=\"text-align: center;\">    0    </td><td style=\"text-align: center;\">   1   </td><td style=\"text-align: center;\">      0       </td><td style=\"text-align: center;\">   0   </td><td style=\"text-align: center;\">    0     </td><td style=\"text-align: center;\">    0    </td><td style=\"text-align: center;\">    0     </td><td style=\"text-align: center;\">    0     </td><td style=\"text-align: center;\">    0    </td><td style=\"text-align: center;\">     1     </td></tr>\\n<tr><td style=\"text-align: center;\">    8798    </td><td style=\"text-align: center;\"> 2004 </td><td style=\"text-align: center;\">    3.8     </td><td style=\"text-align: center;\">    1    </td><td style=\"text-align: center;\">     0      </td><td style=\"text-align: center;\">     0      </td><td style=\"text-align: center;\">     0     </td><td style=\"text-align: center;\">    0    </td><td style=\"text-align: center;\">   1   </td><td style=\"text-align: center;\">      0       </td><td style=\"text-align: center;\">   1   </td><td style=\"text-align: center;\">    0     </td><td style=\"text-align: center;\">    0    </td><td style=\"text-align: center;\">    0     </td><td style=\"text-align: center;\">    0     </td><td style=\"text-align: center;\">    0    </td><td style=\"text-align: center;\">     1     </td></tr>\\n<tr><td style=\"text-align: center;\">   46970    </td><td style=\"text-align: center;\"> 2006 </td><td style=\"text-align: center;\">    3.2     </td><td style=\"text-align: center;\">    1    </td><td style=\"text-align: center;\">     0      </td><td style=\"text-align: center;\">     0      </td><td style=\"text-align: center;\">     0     </td><td style=\"text-align: center;\">    1    </td><td style=\"text-align: center;\">   0   </td><td style=\"text-align: center;\">      0       </td><td style=\"text-align: center;\">   0   </td><td style=\"text-align: center;\">    0     </td><td style=\"text-align: center;\">    0    </td><td style=\"text-align: center;\">    0     </td><td style=\"text-align: center;\">    0     </td><td style=\"text-align: center;\">    0    </td><td style=\"text-align: center;\">     0     </td></tr>\\n<tr><td style=\"text-align: center;\">   48516    </td><td style=\"text-align: center;\"> 2006 </td><td style=\"text-align: center;\">    4.3     </td><td style=\"text-align: center;\">    0    </td><td style=\"text-align: center;\">     0      </td><td style=\"text-align: center;\">     0      </td><td style=\"text-align: center;\">     0     </td><td style=\"text-align: center;\">    0    </td><td style=\"text-align: center;\">   1   </td><td style=\"text-align: center;\">      0       </td><td style=\"text-align: center;\">   1   </td><td style=\"text-align: center;\">    0     </td><td style=\"text-align: center;\">    0    </td><td style=\"text-align: center;\">    0     </td><td style=\"text-align: center;\">    0     </td><td style=\"text-align: center;\">    0    </td><td style=\"text-align: center;\">     1     </td></tr>\\n<tr><td style=\"text-align: center;\">   58559    </td><td style=\"text-align: center;\"> 2008 </td><td style=\"text-align: center;\">    4.2     </td><td style=\"text-align: center;\">    1    </td><td style=\"text-align: center;\">     0      </td><td style=\"text-align: center;\">     0      </td><td style=\"text-align: center;\">     0     </td><td style=\"text-align: center;\">    0    </td><td style=\"text-align: center;\">   1   </td><td style=\"text-align: center;\">      0       </td><td style=\"text-align: center;\">   1   </td><td style=\"text-align: center;\">    0     </td><td style=\"text-align: center;\">    0    </td><td style=\"text-align: center;\">    0     </td><td style=\"text-align: center;\">    0     </td><td style=\"text-align: center;\">    0    </td><td style=\"text-align: center;\">     0     </td></tr>\\n</tbody>\\n</table>'"
      ]
     },
     "execution_count": 6,
     "metadata": {},
     "output_type": "execute_result"
    }
   ],
   "source": [
    "pprint_train(item_train, item_features, ivs, i_s, maxcount=5, user=False)"
   ]
  },
  {
   "cell_type": "markdown",
   "metadata": {},
   "source": [
    "Arriba, la matriz de películas contiene el año en que se estrenó la película, la calificación promedio y un indicador para cada género potencial. El indicador es uno para cada género que se aplica a la película. El identificador de la película no se utiliza en el entrenamiento, pero es útil para interpretar los datos."
   ]
  },
  {
   "cell_type": "code",
   "execution_count": 7,
   "metadata": {
    "deletable": false,
    "editable": false
   },
   "outputs": [
    {
     "name": "stdout",
     "output_type": "stream",
     "text": [
      "y_train[:5]: [4.  3.5 4.  4.  4.5]\n"
     ]
    }
   ],
   "source": [
    "print(f\"y_train[:5]: {y_train[:5]}\")"
   ]
  },
  {
   "cell_type": "markdown",
   "metadata": {},
   "source": [
    "El objetivo, y, es la calificación de la película dada por el usuario. "
   ]
  },
  {
   "cell_type": "markdown",
   "metadata": {},
   "source": [
    "Arriba, podemos ver que la película 6874 es una película de acción, crimen y suspenso estrenada en 2003. El usuario 2 califica las películas de acción con un promedio de 3,9. Los usuarios de MovieLens le dieron a la película una calificación promedio de 4. 'y' es 4, lo que indica que el usuario 2 también calificó la película 6874 con un 4. Un solo ejemplo de entrenamiento consta de una fila de las matrices de usuario y elemento y una calificación de y_train."
   ]
  },
  {
   "cell_type": "markdown",
   "metadata": {},
   "source": [
    "### 3.2 Preparación de los datos de entrenamiento\n",
    "\n",
    "- Escalar características de entrada (X). \n",
    "\n",
    "- Escalar calificaciones objetivo (y). Nota: Min Max Scaler escalar objetivo para que esté entre -1 y 1."
   ]
  },
  {
   "cell_type": "code",
   "execution_count": 8,
   "metadata": {
    "deletable": false,
    "editable": false
   },
   "outputs": [
    {
     "name": "stdout",
     "output_type": "stream",
     "text": [
      "True\n",
      "True\n"
     ]
    }
   ],
   "source": [
    "# Datos de Entrenamiento\n",
    "item_train_unscaled = item_train\n",
    "user_train_unscaled = user_train\n",
    "# Datos Objetivos\n",
    "y_train_unscaled    = y_train\n",
    "\n",
    "# Para train\n",
    "scalerItem = StandardScaler()\n",
    "scalerItem.fit(item_train)\n",
    "item_train = scalerItem.transform(item_train)\n",
    "\n",
    "# Para Usuarios\n",
    "scalerUser = StandardScaler()\n",
    "scalerUser.fit(user_train)\n",
    "user_train = scalerUser.transform(user_train)\n",
    "\n",
    "# Para objetivo (calificaciones)\n",
    "scalerTarget = MinMaxScaler((-1, 1))\n",
    "scalerTarget.fit(y_train.reshape(-1, 1))\n",
    "y_train = scalerTarget.transform(y_train.reshape(-1, 1))\n",
    "#ynorm_test = scalerTarget.transform(y_test.reshape(-1, 1))\n",
    "\n",
    "print(np.allclose(item_train_unscaled, scalerItem.inverse_transform(item_train)))\n",
    "print(np.allclose(user_train_unscaled, scalerUser.inverse_transform(user_train)))"
   ]
  },
  {
   "cell_type": "markdown",
   "metadata": {},
   "source": [
    "### Dividir datos en conjuntos de entrenamiento y prueba."
   ]
  },
  {
   "cell_type": "code",
   "execution_count": 9,
   "metadata": {
    "deletable": false,
    "editable": false
   },
   "outputs": [
    {
     "name": "stdout",
     "output_type": "stream",
     "text": [
      "movie/item training data shape: (40707, 17)\n",
      "movie/item test data shape: (10177, 17)\n"
     ]
    }
   ],
   "source": [
    "item_train, item_test = train_test_split(item_train, train_size=0.80, shuffle=True, random_state=1)\n",
    "user_train, user_test = train_test_split(user_train, train_size=0.80, shuffle=True, random_state=1)\n",
    "y_train, y_test       = train_test_split(y_train,    train_size=0.80, shuffle=True, random_state=1)\n",
    "print(f\"movie/item training data shape: {item_train.shape}\")\n",
    "print(f\"movie/item test data shape: {item_test.shape}\")"
   ]
  },
  {
   "cell_type": "markdown",
   "metadata": {},
   "source": [
    "Nota: Los datos escalados y mezclados ahora tienen una media de cero."
   ]
  },
  {
   "cell_type": "code",
   "execution_count": 10,
   "metadata": {
    "deletable": false,
    "editable": false
   },
   "outputs": [
    {
     "data": {
      "text/html": [
       "<table>\n",
       "<thead>\n",
       "<tr><th style=\"text-align: center;\"> [user id] </th><th style=\"text-align: center;\"> [rating count] </th><th style=\"text-align: center;\"> [rating ave] </th><th style=\"text-align: center;\"> Act ion </th><th style=\"text-align: center;\"> Adve nture </th><th style=\"text-align: center;\"> Anim ation </th><th style=\"text-align: center;\"> Chil dren </th><th style=\"text-align: center;\"> Com edy </th><th style=\"text-align: center;\"> Crime </th><th style=\"text-align: center;\"> Docum entary </th><th style=\"text-align: center;\"> Drama </th><th style=\"text-align: center;\"> Fan tasy </th><th style=\"text-align: center;\"> Hor ror </th><th style=\"text-align: center;\"> Mys tery </th><th style=\"text-align: center;\"> Rom ance </th><th style=\"text-align: center;\"> Sci -Fi </th><th style=\"text-align: center;\"> Thri ller </th></tr>\n",
       "</thead>\n",
       "<tbody>\n",
       "<tr><td style=\"text-align: center;\">     1     </td><td style=\"text-align: center;\">       0        </td><td style=\"text-align: center;\">     -1.0     </td><td style=\"text-align: center;\">  -0.8   </td><td style=\"text-align: center;\">    -0.7    </td><td style=\"text-align: center;\">    0.1     </td><td style=\"text-align: center;\">   -0.0    </td><td style=\"text-align: center;\">  -1.2   </td><td style=\"text-align: center;\"> -0.4  </td><td style=\"text-align: center;\">     0.6      </td><td style=\"text-align: center;\"> -0.5  </td><td style=\"text-align: center;\">   -0.5   </td><td style=\"text-align: center;\">  -0.1   </td><td style=\"text-align: center;\">   -0.6   </td><td style=\"text-align: center;\">   -0.6   </td><td style=\"text-align: center;\">  -0.7   </td><td style=\"text-align: center;\">   -0.7    </td></tr>\n",
       "<tr><td style=\"text-align: center;\">     0     </td><td style=\"text-align: center;\">       1        </td><td style=\"text-align: center;\">     -0.7     </td><td style=\"text-align: center;\">  -0.5   </td><td style=\"text-align: center;\">    -0.7    </td><td style=\"text-align: center;\">    -0.1    </td><td style=\"text-align: center;\">   -0.2    </td><td style=\"text-align: center;\">  -0.6   </td><td style=\"text-align: center;\"> -0.2  </td><td style=\"text-align: center;\">     0.7      </td><td style=\"text-align: center;\"> -0.5  </td><td style=\"text-align: center;\">   -0.8   </td><td style=\"text-align: center;\">   0.1   </td><td style=\"text-align: center;\">   -0.0   </td><td style=\"text-align: center;\">   -0.6   </td><td style=\"text-align: center;\">  -0.5   </td><td style=\"text-align: center;\">   -0.4    </td></tr>\n",
       "<tr><td style=\"text-align: center;\">    -1     </td><td style=\"text-align: center;\">       -1       </td><td style=\"text-align: center;\">     -0.2     </td><td style=\"text-align: center;\">   0.3   </td><td style=\"text-align: center;\">    -0.4    </td><td style=\"text-align: center;\">    0.4     </td><td style=\"text-align: center;\">    0.5    </td><td style=\"text-align: center;\">   1.0   </td><td style=\"text-align: center;\">  0.6  </td><td style=\"text-align: center;\">     -1.2     </td><td style=\"text-align: center;\"> -0.3  </td><td style=\"text-align: center;\">   -0.6   </td><td style=\"text-align: center;\">  -2.3   </td><td style=\"text-align: center;\">   -0.1   </td><td style=\"text-align: center;\">   0.0    </td><td style=\"text-align: center;\">   0.4   </td><td style=\"text-align: center;\">   -0.0    </td></tr>\n",
       "<tr><td style=\"text-align: center;\">     0     </td><td style=\"text-align: center;\">       -1       </td><td style=\"text-align: center;\">     0.6      </td><td style=\"text-align: center;\">   0.5   </td><td style=\"text-align: center;\">    0.5     </td><td style=\"text-align: center;\">    0.2     </td><td style=\"text-align: center;\">    0.6    </td><td style=\"text-align: center;\">  -0.1   </td><td style=\"text-align: center;\">  0.5  </td><td style=\"text-align: center;\">     -1.2     </td><td style=\"text-align: center;\">  0.9  </td><td style=\"text-align: center;\">   1.2    </td><td style=\"text-align: center;\">  -2.3   </td><td style=\"text-align: center;\">   -0.1   </td><td style=\"text-align: center;\">   0.0    </td><td style=\"text-align: center;\">   0.2   </td><td style=\"text-align: center;\">    0.3    </td></tr>\n",
       "<tr><td style=\"text-align: center;\">    -1     </td><td style=\"text-align: center;\">       0        </td><td style=\"text-align: center;\">     0.7      </td><td style=\"text-align: center;\">   0.6   </td><td style=\"text-align: center;\">    0.5     </td><td style=\"text-align: center;\">    0.3     </td><td style=\"text-align: center;\">    0.5    </td><td style=\"text-align: center;\">   0.4   </td><td style=\"text-align: center;\">  0.6  </td><td style=\"text-align: center;\">     1.0      </td><td style=\"text-align: center;\">  0.6  </td><td style=\"text-align: center;\">   0.3    </td><td style=\"text-align: center;\">   0.8   </td><td style=\"text-align: center;\">   0.8    </td><td style=\"text-align: center;\">   0.4    </td><td style=\"text-align: center;\">   0.7   </td><td style=\"text-align: center;\">    0.7    </td></tr>\n",
       "</tbody>\n",
       "</table>"
      ],
      "text/plain": [
       "'<table>\\n<thead>\\n<tr><th style=\"text-align: center;\"> [user id] </th><th style=\"text-align: center;\"> [rating count] </th><th style=\"text-align: center;\"> [rating ave] </th><th style=\"text-align: center;\"> Act ion </th><th style=\"text-align: center;\"> Adve nture </th><th style=\"text-align: center;\"> Anim ation </th><th style=\"text-align: center;\"> Chil dren </th><th style=\"text-align: center;\"> Com edy </th><th style=\"text-align: center;\"> Crime </th><th style=\"text-align: center;\"> Docum entary </th><th style=\"text-align: center;\"> Drama </th><th style=\"text-align: center;\"> Fan tasy </th><th style=\"text-align: center;\"> Hor ror </th><th style=\"text-align: center;\"> Mys tery </th><th style=\"text-align: center;\"> Rom ance </th><th style=\"text-align: center;\"> Sci -Fi </th><th style=\"text-align: center;\"> Thri ller </th></tr>\\n</thead>\\n<tbody>\\n<tr><td style=\"text-align: center;\">     1     </td><td style=\"text-align: center;\">       0        </td><td style=\"text-align: center;\">     -1.0     </td><td style=\"text-align: center;\">  -0.8   </td><td style=\"text-align: center;\">    -0.7    </td><td style=\"text-align: center;\">    0.1     </td><td style=\"text-align: center;\">   -0.0    </td><td style=\"text-align: center;\">  -1.2   </td><td style=\"text-align: center;\"> -0.4  </td><td style=\"text-align: center;\">     0.6      </td><td style=\"text-align: center;\"> -0.5  </td><td style=\"text-align: center;\">   -0.5   </td><td style=\"text-align: center;\">  -0.1   </td><td style=\"text-align: center;\">   -0.6   </td><td style=\"text-align: center;\">   -0.6   </td><td style=\"text-align: center;\">  -0.7   </td><td style=\"text-align: center;\">   -0.7    </td></tr>\\n<tr><td style=\"text-align: center;\">     0     </td><td style=\"text-align: center;\">       1        </td><td style=\"text-align: center;\">     -0.7     </td><td style=\"text-align: center;\">  -0.5   </td><td style=\"text-align: center;\">    -0.7    </td><td style=\"text-align: center;\">    -0.1    </td><td style=\"text-align: center;\">   -0.2    </td><td style=\"text-align: center;\">  -0.6   </td><td style=\"text-align: center;\"> -0.2  </td><td style=\"text-align: center;\">     0.7      </td><td style=\"text-align: center;\"> -0.5  </td><td style=\"text-align: center;\">   -0.8   </td><td style=\"text-align: center;\">   0.1   </td><td style=\"text-align: center;\">   -0.0   </td><td style=\"text-align: center;\">   -0.6   </td><td style=\"text-align: center;\">  -0.5   </td><td style=\"text-align: center;\">   -0.4    </td></tr>\\n<tr><td style=\"text-align: center;\">    -1     </td><td style=\"text-align: center;\">       -1       </td><td style=\"text-align: center;\">     -0.2     </td><td style=\"text-align: center;\">   0.3   </td><td style=\"text-align: center;\">    -0.4    </td><td style=\"text-align: center;\">    0.4     </td><td style=\"text-align: center;\">    0.5    </td><td style=\"text-align: center;\">   1.0   </td><td style=\"text-align: center;\">  0.6  </td><td style=\"text-align: center;\">     -1.2     </td><td style=\"text-align: center;\"> -0.3  </td><td style=\"text-align: center;\">   -0.6   </td><td style=\"text-align: center;\">  -2.3   </td><td style=\"text-align: center;\">   -0.1   </td><td style=\"text-align: center;\">   0.0    </td><td style=\"text-align: center;\">   0.4   </td><td style=\"text-align: center;\">   -0.0    </td></tr>\\n<tr><td style=\"text-align: center;\">     0     </td><td style=\"text-align: center;\">       -1       </td><td style=\"text-align: center;\">     0.6      </td><td style=\"text-align: center;\">   0.5   </td><td style=\"text-align: center;\">    0.5     </td><td style=\"text-align: center;\">    0.2     </td><td style=\"text-align: center;\">    0.6    </td><td style=\"text-align: center;\">  -0.1   </td><td style=\"text-align: center;\">  0.5  </td><td style=\"text-align: center;\">     -1.2     </td><td style=\"text-align: center;\">  0.9  </td><td style=\"text-align: center;\">   1.2    </td><td style=\"text-align: center;\">  -2.3   </td><td style=\"text-align: center;\">   -0.1   </td><td style=\"text-align: center;\">   0.0    </td><td style=\"text-align: center;\">   0.2   </td><td style=\"text-align: center;\">    0.3    </td></tr>\\n<tr><td style=\"text-align: center;\">    -1     </td><td style=\"text-align: center;\">       0        </td><td style=\"text-align: center;\">     0.7      </td><td style=\"text-align: center;\">   0.6   </td><td style=\"text-align: center;\">    0.5     </td><td style=\"text-align: center;\">    0.3     </td><td style=\"text-align: center;\">    0.5    </td><td style=\"text-align: center;\">   0.4   </td><td style=\"text-align: center;\">  0.6  </td><td style=\"text-align: center;\">     1.0      </td><td style=\"text-align: center;\">  0.6  </td><td style=\"text-align: center;\">   0.3    </td><td style=\"text-align: center;\">   0.8   </td><td style=\"text-align: center;\">   0.8    </td><td style=\"text-align: center;\">   0.4    </td><td style=\"text-align: center;\">   0.7   </td><td style=\"text-align: center;\">    0.7    </td></tr>\\n</tbody>\\n</table>'"
      ]
     },
     "execution_count": 10,
     "metadata": {},
     "output_type": "execute_result"
    }
   ],
   "source": [
    "pprint_train(user_train, user_features, uvs, u_s, maxcount=5)"
   ]
  },
  {
   "cell_type": "markdown",
   "metadata": {},
   "source": [
    "## 4. Red neuronal para filtrado basado en contenido\n",
    "La red Neuronal, Tendrá 2 redes que se combinan mediante un producto escalar (Para este Poryecto serán idénticas).\n",
    "\n",
    "Nota:** Tener en cuenta que estas redes no necesitan ser iguales. Si el contenido del usuario fuera sustancialmente más grande que el contenido de la película, se podría optar por aumentar la complejidad de la red del usuario en relación con la red de la película. En este caso, el contenido es similar, por lo que las redes son iguales.**\n",
    "\n"
   ]
  },
  {
   "cell_type": "code",
   "execution_count": 13,
   "metadata": {
    "deletable": false,
    "id": "CBjZ2HhRwpa0"
   },
   "outputs": [
    {
     "name": "stdout",
     "output_type": "stream",
     "text": [
      "Model: \"model\"\n",
      "__________________________________________________________________________________________________\n",
      "Layer (type)                    Output Shape         Param #     Connected to                     \n",
      "==================================================================================================\n",
      "input_1 (InputLayer)            [(None, 14)]         0                                            \n",
      "__________________________________________________________________________________________________\n",
      "input_2 (InputLayer)            [(None, 16)]         0                                            \n",
      "__________________________________________________________________________________________________\n",
      "sequential (Sequential)         (None, 32)           40864       input_1[0][0]                    \n",
      "__________________________________________________________________________________________________\n",
      "sequential_1 (Sequential)       (None, 32)           41376       input_2[0][0]                    \n",
      "__________________________________________________________________________________________________\n",
      "tf_op_layer_l2_normalize/Square [(None, 32)]         0           sequential[0][0]                 \n",
      "__________________________________________________________________________________________________\n",
      "tf_op_layer_l2_normalize_1/Squa [(None, 32)]         0           sequential_1[0][0]               \n",
      "__________________________________________________________________________________________________\n",
      "tf_op_layer_l2_normalize/Sum (T [(None, 1)]          0           tf_op_layer_l2_normalize/Square[0\n",
      "__________________________________________________________________________________________________\n",
      "tf_op_layer_l2_normalize_1/Sum  [(None, 1)]          0           tf_op_layer_l2_normalize_1/Square\n",
      "__________________________________________________________________________________________________\n",
      "tf_op_layer_l2_normalize/Maximu [(None, 1)]          0           tf_op_layer_l2_normalize/Sum[0][0\n",
      "__________________________________________________________________________________________________\n",
      "tf_op_layer_l2_normalize_1/Maxi [(None, 1)]          0           tf_op_layer_l2_normalize_1/Sum[0]\n",
      "__________________________________________________________________________________________________\n",
      "tf_op_layer_l2_normalize/Rsqrt  [(None, 1)]          0           tf_op_layer_l2_normalize/Maximum[\n",
      "__________________________________________________________________________________________________\n",
      "tf_op_layer_l2_normalize_1/Rsqr [(None, 1)]          0           tf_op_layer_l2_normalize_1/Maximu\n",
      "__________________________________________________________________________________________________\n",
      "tf_op_layer_l2_normalize (Tenso [(None, 32)]         0           sequential[0][0]                 \n",
      "                                                                 tf_op_layer_l2_normalize/Rsqrt[0]\n",
      "__________________________________________________________________________________________________\n",
      "tf_op_layer_l2_normalize_1 (Ten [(None, 32)]         0           sequential_1[0][0]               \n",
      "                                                                 tf_op_layer_l2_normalize_1/Rsqrt[\n",
      "__________________________________________________________________________________________________\n",
      "dot (Dot)                       (None, 1)            0           tf_op_layer_l2_normalize[0][0]   \n",
      "                                                                 tf_op_layer_l2_normalize_1[0][0] \n",
      "==================================================================================================\n",
      "Total params: 82,240\n",
      "Trainable params: 82,240\n",
      "Non-trainable params: 0\n",
      "__________________________________________________________________________________________________\n"
     ]
    }
   ],
   "source": [
    "num_outputs = 32\n",
    "tf.random.set_seed(1)\n",
    "\n",
    "user_NN = tf.keras.models.Sequential([\n",
    "    \n",
    "    tf.keras.layers.Dense(256, activation= 'relu'),\n",
    "    tf.keras.layers.Dense(128, activation= 'relu'),\n",
    "    tf.keras.layers.Dense(num_outputs),\n",
    "])\n",
    "\n",
    "item_NN = tf.keras.models.Sequential([\n",
    "  \n",
    "    \n",
    "     tf.keras.layers.Dense(256, activation= 'relu'),\n",
    "     tf.keras.layers.Dense(128, activation= 'relu'),\n",
    "     tf.keras.layers.Dense(num_outputs),\n",
    "\n",
    "])\n",
    "\n",
    "# crea la entrada del usuario y apunta a la red base\n",
    "input_user = tf.keras.layers.Input(shape=(num_user_features))\n",
    "vu = user_NN(input_user)\n",
    "vu = tf.linalg.l2_normalize(vu, axis=1)\n",
    "\n",
    "# crea la entrada del elemento y apunta a la red base\n",
    "input_item = tf.keras.layers.Input(shape=(num_item_features))\n",
    "vm = item_NN(input_item)\n",
    "vm = tf.linalg.l2_normalize(vm, axis=1)\n",
    "\n",
    "# Calcular el producto escalar de los dos vectores vu y vm\n",
    "output = tf.keras.layers.Dot(axes=1)([vu, vm])\n",
    "\n",
    "# especifica las entradas y salidas del modelo\n",
    "model = tf.keras.Model([input_user, input_item], output)\n",
    "\n",
    "model.summary()"
   ]
  },
  {
   "cell_type": "code",
   "execution_count": 15,
   "metadata": {
    "deletable": false,
    "editable": false,
    "id": "pGK5MEUowxN4"
   },
   "outputs": [],
   "source": [
    "tf.random.set_seed(1)\n",
    "\n",
    "# Definir la perdida y el Optimizador\n",
    "cost_fn = tf.keras.losses.MeanSquaredError()\n",
    "opt = keras.optimizers.Adam(learning_rate=0.01)\n",
    "model.compile(optimizer=opt,\n",
    "              loss=cost_fn)"
   ]
  },
  {
   "cell_type": "code",
   "execution_count": 16,
   "metadata": {
    "deletable": false,
    "editable": false,
    "id": "6zHf7eASw0tN"
   },
   "outputs": [
    {
     "name": "stdout",
     "output_type": "stream",
     "text": [
      "Train on 40707 samples\n",
      "Epoch 1/30\n",
      "40707/40707 [==============================] - 5s 123us/sample - loss: 0.1232\n",
      "Epoch 2/30\n",
      "40707/40707 [==============================] - 5s 111us/sample - loss: 0.1146\n",
      "Epoch 3/30\n",
      "40707/40707 [==============================] - 5s 111us/sample - loss: 0.1089\n",
      "Epoch 4/30\n",
      "40707/40707 [==============================] - 5s 111us/sample - loss: 0.1039\n",
      "Epoch 5/30\n",
      "40707/40707 [==============================] - 5s 112us/sample - loss: 0.1001\n",
      "Epoch 6/30\n",
      "40707/40707 [==============================] - 5s 111us/sample - loss: 0.0973\n",
      "Epoch 7/30\n",
      "40707/40707 [==============================] - 5s 111us/sample - loss: 0.0956\n",
      "Epoch 8/30\n",
      "40707/40707 [==============================] - 5s 112us/sample - loss: 0.0935\n",
      "Epoch 9/30\n",
      "40707/40707 [==============================] - 5s 111us/sample - loss: 0.0916\n",
      "Epoch 10/30\n",
      "40707/40707 [==============================] - 5s 112us/sample - loss: 0.0897\n",
      "Epoch 11/30\n",
      "40707/40707 [==============================] - 5s 113us/sample - loss: 0.0880\n",
      "Epoch 12/30\n",
      "40707/40707 [==============================] - 5s 116us/sample - loss: 0.0865\n",
      "Epoch 13/30\n",
      "40707/40707 [==============================] - 5s 116us/sample - loss: 0.0852\n",
      "Epoch 14/30\n",
      "40707/40707 [==============================] - 5s 117us/sample - loss: 0.0839\n",
      "Epoch 15/30\n",
      "40707/40707 [==============================] - 5s 113us/sample - loss: 0.0830\n",
      "Epoch 16/30\n",
      "40707/40707 [==============================] - 5s 111us/sample - loss: 0.0815\n",
      "Epoch 17/30\n",
      "40707/40707 [==============================] - 5s 115us/sample - loss: 0.0807\n",
      "Epoch 18/30\n",
      "40707/40707 [==============================] - 5s 111us/sample - loss: 0.0796\n",
      "Epoch 19/30\n",
      "40707/40707 [==============================] - 5s 115us/sample - loss: 0.0786\n",
      "Epoch 20/30\n",
      "40707/40707 [==============================] - 5s 116us/sample - loss: 0.0776\n",
      "Epoch 21/30\n",
      "40707/40707 [==============================] - 5s 116us/sample - loss: 0.0769\n",
      "Epoch 22/30\n",
      "40707/40707 [==============================] - 5s 117us/sample - loss: 0.0761\n",
      "Epoch 23/30\n",
      "40707/40707 [==============================] - 5s 116us/sample - loss: 0.0755\n",
      "Epoch 24/30\n",
      "40707/40707 [==============================] - 5s 116us/sample - loss: 0.0746\n",
      "Epoch 25/30\n",
      "40707/40707 [==============================] - 5s 117us/sample - loss: 0.0741\n",
      "Epoch 26/30\n",
      "40707/40707 [==============================] - 5s 118us/sample - loss: 0.0733\n",
      "Epoch 27/30\n",
      "40707/40707 [==============================] - 5s 118us/sample - loss: 0.0728\n",
      "Epoch 28/30\n",
      "40707/40707 [==============================] - 5s 117us/sample - loss: 0.0723\n",
      "Epoch 29/30\n",
      "40707/40707 [==============================] - 5s 116us/sample - loss: 0.0717\n",
      "Epoch 30/30\n",
      "40707/40707 [==============================] - 5s 116us/sample - loss: 0.0713\n"
     ]
    },
    {
     "data": {
      "text/plain": [
       "<tensorflow.python.keras.callbacks.History at 0x7b2fdd223150>"
      ]
     },
     "execution_count": 16,
     "metadata": {},
     "output_type": "execute_result"
    }
   ],
   "source": [
    "tf.random.set_seed(1)\n",
    "# El modelo recive 2 conjunto de X_Etrenamiento \n",
    "# para usuarios e item, y solo uno de y_entrenamiento usando la API Secuencial\n",
    "model.fit([user_train[:, u_s:], item_train[:, i_s:]], y_train, epochs=30)"
   ]
  },
  {
   "cell_type": "code",
   "execution_count": 17,
   "metadata": {
    "deletable": false,
    "editable": false
   },
   "outputs": [
    {
     "name": "stdout",
     "output_type": "stream",
     "text": [
      "10177/10177 [==============================] - 0s 37us/sample - loss: 0.0815\n"
     ]
    },
    {
     "data": {
      "text/plain": [
       "0.08146006993124337"
      ]
     },
     "execution_count": 17,
     "metadata": {},
     "output_type": "execute_result"
    }
   ],
   "source": [
    "# Evaluar modelo, Visualizar pérdida en los datos de prueba.\n",
    "\n",
    "model.evaluate([user_test[:, u_s:], item_test[:, i_s:]], y_test)"
   ]
  },
  {
   "cell_type": "markdown",
   "metadata": {},
   "source": [
    "Nota: Es comparable a la pérdida de entrenamiento, lo que indica que el modelo no se ha ajustado sustancialmente a los datos de entrenamiento."
   ]
  },
  {
   "cell_type": "markdown",
   "metadata": {
    "id": "Xsre-gquwEls"
   },
   "source": [
    "## 5. Predicciones\n",
    "realizar predicciones en diversas circunstancias.\n",
    "\n",
    "### 5.1 Predicciones para un nuevo usuario:\n",
    "- Hacer Lo siguiente:\n",
    "\n",
    "1. Crearemos nuevo usuario (el modelo sugerira películas para ese usuario Nuevo). \n",
    "2. Probado esto en el contenido del usuario de ejemplo, (cambiar contenido con propias preferencias y vea lo que sugiere el modelo). \n",
    "\n",
    "Nota: Importante Tener en cuenta que las calificaciones están entre 0,5 y 5,0, inclusive, en incrementos de medio paso."
   ]
  },
  {
   "cell_type": "code",
   "execution_count": 18,
   "metadata": {
    "deletable": false,
    "id": "4_7nZyPiVJ4r"
   },
   "outputs": [],
   "source": [
    "# Nuevo Usuario con carcatetisticas Porpias de ese Usuario\n",
    "\n",
    "new_user_id = 5000\n",
    "new_rating_ave = 0.0\n",
    "new_action = 0.0\n",
    "new_adventure = 5.0\n",
    "new_animation = 0.0\n",
    "new_childrens = 0.0\n",
    "new_comedy = 0.0\n",
    "new_crime = 0.0\n",
    "new_documentary = 0.0\n",
    "new_drama = 0.0\n",
    "new_fantasy = 5.0\n",
    "new_horror = 0.0\n",
    "new_mystery = 0.0\n",
    "new_romance = 0.0\n",
    "new_scifi = 0.0\n",
    "new_thriller = 0.0\n",
    "new_rating_count = 3\n",
    "\n",
    "user_vec = np.array([[new_user_id, new_rating_count, new_rating_ave,\n",
    "                      new_action, new_adventure, new_animation, new_childrens,\n",
    "                      new_comedy, new_crime, new_documentary,\n",
    "                      new_drama, new_fantasy, new_horror, new_mystery,\n",
    "                      new_romance, new_scifi, new_thriller]])"
   ]
  },
  {
   "cell_type": "markdown",
   "metadata": {},
   "source": [
    "- Para este Nuevo Usuario:\n",
    "\n",
    "- Los géneros que el nuevo usuario le gustan son aventura y fantasía.\n",
    "\n",
    "- El modelo sugerirá películas que también le gustan aventura y fantasía (películas mejor valoradas por el nuevo usuario.).\n",
    "\n",
    "- Las películas que el nuevo usuario le gustan son:\n",
    "\n",
    "- The Shawshank Redemption (1994)\n",
    "\n",
    "- The Godfather (1972)\n",
    "\n",
    "- Pulp Fiction (1994)\n",
    "\n",
    "- The Dark Knight (2008)\n",
    "\n",
    "- La pérdida es alta, pero la cantidad de calificaciones es baja, lo que indica que el nuevo usuario podría estar encantado con estas películas.\n",
    "\n",
    "- Nota: Este modelo puede sugerir otras películas, pero no todas podrían gustarle. Para obtener recomendaciones más personalizadas, se podría incorporar más información sobre el nuevo usuario, como su historial de calificaciones, géneros preferidos, etc.\n",
    "\n",
    "\n",
    "**MODELO: A continuación, utilizara un conjunto de vectores de películas/elementos, `item_vecs`, que tienen un vector para cada película del conjunto de entrenamiento/prueba. Esto se combina con el nuevo vector de usuario anterior y los vectores escalados se utilizan para predecir las calificaciones de todas las películas.**"
   ]
  },
  {
   "cell_type": "code",
   "execution_count": 19,
   "metadata": {
    "deletable": false,
    "editable": false
   },
   "outputs": [
    {
     "data": {
      "text/html": [
       "<table>\n",
       "<thead>\n",
       "<tr><th style=\"text-align: right;\">  y_p</th><th style=\"text-align: right;\">  movie id</th><th style=\"text-align: right;\">  rating ave</th><th>title                                              </th><th>genres                          </th></tr>\n",
       "</thead>\n",
       "<tbody>\n",
       "<tr><td style=\"text-align: right;\">  4.5</td><td style=\"text-align: right;\">     98809</td><td style=\"text-align: right;\">         3.8</td><td>Hobbit: An Unexpected Journey, The (2012)          </td><td>Adventure|Fantasy               </td></tr>\n",
       "<tr><td style=\"text-align: right;\">  4.4</td><td style=\"text-align: right;\">      8368</td><td style=\"text-align: right;\">         3.9</td><td>Harry Potter and the Prisoner of Azkaban (2004)    </td><td>Adventure|Fantasy               </td></tr>\n",
       "<tr><td style=\"text-align: right;\">  4.4</td><td style=\"text-align: right;\">     54001</td><td style=\"text-align: right;\">         3.9</td><td>Harry Potter and the Order of the Phoenix (2007)   </td><td>Adventure|Drama|Fantasy         </td></tr>\n",
       "<tr><td style=\"text-align: right;\">  4.3</td><td style=\"text-align: right;\">     40815</td><td style=\"text-align: right;\">         3.8</td><td>Harry Potter and the Goblet of Fire (2005)         </td><td>Adventure|Fantasy|Thriller      </td></tr>\n",
       "<tr><td style=\"text-align: right;\">  4.3</td><td style=\"text-align: right;\">    106489</td><td style=\"text-align: right;\">         3.6</td><td>Hobbit: The Desolation of Smaug, The (2013)        </td><td>Adventure|Fantasy               </td></tr>\n",
       "<tr><td style=\"text-align: right;\">  4.3</td><td style=\"text-align: right;\">     81834</td><td style=\"text-align: right;\">         4  </td><td>Harry Potter and the Deathly Hallows: Part 1 (2010)</td><td>Action|Adventure|Fantasy        </td></tr>\n",
       "<tr><td style=\"text-align: right;\">  4.3</td><td style=\"text-align: right;\">     59387</td><td style=\"text-align: right;\">         4  </td><td>Fall, The (2006)                                   </td><td>Adventure|Drama|Fantasy         </td></tr>\n",
       "<tr><td style=\"text-align: right;\">  4.3</td><td style=\"text-align: right;\">      5952</td><td style=\"text-align: right;\">         4  </td><td>Lord of the Rings: The Two Towers, The (2002)      </td><td>Adventure|Fantasy               </td></tr>\n",
       "<tr><td style=\"text-align: right;\">  4.3</td><td style=\"text-align: right;\">      5816</td><td style=\"text-align: right;\">         3.6</td><td>Harry Potter and the Chamber of Secrets (2002)     </td><td>Adventure|Fantasy               </td></tr>\n",
       "<tr><td style=\"text-align: right;\">  4.3</td><td style=\"text-align: right;\">     54259</td><td style=\"text-align: right;\">         3.6</td><td>Stardust (2007)                                    </td><td>Adventure|Comedy|Fantasy|Romance</td></tr>\n",
       "</tbody>\n",
       "</table>"
      ],
      "text/plain": [
       "'<table>\\n<thead>\\n<tr><th style=\"text-align: right;\">  y_p</th><th style=\"text-align: right;\">  movie id</th><th style=\"text-align: right;\">  rating ave</th><th>title                                              </th><th>genres                          </th></tr>\\n</thead>\\n<tbody>\\n<tr><td style=\"text-align: right;\">  4.5</td><td style=\"text-align: right;\">     98809</td><td style=\"text-align: right;\">         3.8</td><td>Hobbit: An Unexpected Journey, The (2012)          </td><td>Adventure|Fantasy               </td></tr>\\n<tr><td style=\"text-align: right;\">  4.4</td><td style=\"text-align: right;\">      8368</td><td style=\"text-align: right;\">         3.9</td><td>Harry Potter and the Prisoner of Azkaban (2004)    </td><td>Adventure|Fantasy               </td></tr>\\n<tr><td style=\"text-align: right;\">  4.4</td><td style=\"text-align: right;\">     54001</td><td style=\"text-align: right;\">         3.9</td><td>Harry Potter and the Order of the Phoenix (2007)   </td><td>Adventure|Drama|Fantasy         </td></tr>\\n<tr><td style=\"text-align: right;\">  4.3</td><td style=\"text-align: right;\">     40815</td><td style=\"text-align: right;\">         3.8</td><td>Harry Potter and the Goblet of Fire (2005)         </td><td>Adventure|Fantasy|Thriller      </td></tr>\\n<tr><td style=\"text-align: right;\">  4.3</td><td style=\"text-align: right;\">    106489</td><td style=\"text-align: right;\">         3.6</td><td>Hobbit: The Desolation of Smaug, The (2013)        </td><td>Adventure|Fantasy               </td></tr>\\n<tr><td style=\"text-align: right;\">  4.3</td><td style=\"text-align: right;\">     81834</td><td style=\"text-align: right;\">         4  </td><td>Harry Potter and the Deathly Hallows: Part 1 (2010)</td><td>Action|Adventure|Fantasy        </td></tr>\\n<tr><td style=\"text-align: right;\">  4.3</td><td style=\"text-align: right;\">     59387</td><td style=\"text-align: right;\">         4  </td><td>Fall, The (2006)                                   </td><td>Adventure|Drama|Fantasy         </td></tr>\\n<tr><td style=\"text-align: right;\">  4.3</td><td style=\"text-align: right;\">      5952</td><td style=\"text-align: right;\">         4  </td><td>Lord of the Rings: The Two Towers, The (2002)      </td><td>Adventure|Fantasy               </td></tr>\\n<tr><td style=\"text-align: right;\">  4.3</td><td style=\"text-align: right;\">      5816</td><td style=\"text-align: right;\">         3.6</td><td>Harry Potter and the Chamber of Secrets (2002)     </td><td>Adventure|Fantasy               </td></tr>\\n<tr><td style=\"text-align: right;\">  4.3</td><td style=\"text-align: right;\">     54259</td><td style=\"text-align: right;\">         3.6</td><td>Stardust (2007)                                    </td><td>Adventure|Comedy|Fantasy|Romance</td></tr>\\n</tbody>\\n</table>'"
      ]
     },
     "execution_count": 19,
     "metadata": {},
     "output_type": "execute_result"
    }
   ],
   "source": [
    "# generar y replicar el vector de usuario para que coincida con el número de películas en el conjunto de datos.\n",
    "user_vecs = gen_user_vecs(user_vec,len(item_vecs))\n",
    "\n",
    "# escalamos nuestros vectores de usuario y de elemento\n",
    "suser_vecs = scalerUser.transform(user_vecs)\n",
    "sitem_vecs = scalerItem.transform(item_vecs)\n",
    "\n",
    "# hacer una predicción\n",
    "y_p = model.predict([suser_vecs[:, u_s:], sitem_vecs[:, i_s:]])\n",
    "\n",
    "# predicción y sin escala\n",
    "y_pu = scalerTarget.inverse_transform(y_p)\n",
    "\n",
    "# ordenar los resultados, la predicción más alta primero\n",
    "sorted_index = np.argsort(-y_pu,axis=0).reshape(-1).tolist()  # negate para obtener la calificación más alta primero\n",
    "sorted_ypu   = y_pu[sorted_index]\n",
    "sorted_items = item_vecs[sorted_index]  # Usando vectores sin escala para visualización\n",
    "\n",
    "print_pred_movies(sorted_ypu, sorted_items, movie_dict, maxcount = 10)"
   ]
  },
  {
   "cell_type": "markdown",
   "metadata": {
    "tags": []
   },
   "source": [
    "<a name=\"5.2\"></a>\n",
    "### 5.2 - Predicciones para un usuario existente.\n",
    "las predicciones para el \"usuario 2\", (uno de los usuarios del conjunto de datos). Podemos comparar las calificaciones predichas con las calificaciones del modelo."
   ]
  },
  {
   "cell_type": "code",
   "execution_count": 20,
   "metadata": {
    "deletable": false,
    "editable": false
   },
   "outputs": [
    {
     "data": {
      "text/html": [
       "<table>\n",
       "<thead>\n",
       "<tr><th style=\"text-align: right;\">  y_p</th><th style=\"text-align: right;\">  y</th><th style=\"text-align: right;\">  user</th><th>user genre ave           </th><th style=\"text-align: right;\">  movie rating ave</th><th style=\"text-align: right;\">  movie id</th><th>title                                             </th><th>genres                                    </th></tr>\n",
       "</thead>\n",
       "<tbody>\n",
       "<tr><td style=\"text-align: right;\">  4.5</td><td style=\"text-align: right;\">5.0</td><td style=\"text-align: right;\">     2</td><td>[4.0]                    </td><td style=\"text-align: right;\">               4.3</td><td style=\"text-align: right;\">     80906</td><td>Inside Job (2010)                                 </td><td>Documentary                               </td></tr>\n",
       "<tr><td style=\"text-align: right;\">  4.2</td><td style=\"text-align: right;\">3.5</td><td style=\"text-align: right;\">     2</td><td>[4.0,4.0]                </td><td style=\"text-align: right;\">               3.9</td><td style=\"text-align: right;\">     99114</td><td>Django Unchained (2012)                           </td><td>Action|Drama                              </td></tr>\n",
       "<tr><td style=\"text-align: right;\">  4.1</td><td style=\"text-align: right;\">4.5</td><td style=\"text-align: right;\">     2</td><td>[4.0,4.0]                </td><td style=\"text-align: right;\">               4.1</td><td style=\"text-align: right;\">     68157</td><td>Inglourious Basterds (2009)                       </td><td>Action|Drama                              </td></tr>\n",
       "<tr><td style=\"text-align: right;\">  4.1</td><td style=\"text-align: right;\">3.5</td><td style=\"text-align: right;\">     2</td><td>[4.0,3.9,3.9]            </td><td style=\"text-align: right;\">               3.9</td><td style=\"text-align: right;\">    115713</td><td>Ex Machina (2015)                                 </td><td>Drama|Sci-Fi|Thriller                     </td></tr>\n",
       "<tr><td style=\"text-align: right;\">  4.0</td><td style=\"text-align: right;\">4.0</td><td style=\"text-align: right;\">     2</td><td>[4.0,4.1,4.0,4.0,3.9,3.9]</td><td style=\"text-align: right;\">               4.1</td><td style=\"text-align: right;\">     79132</td><td>Inception (2010)                                  </td><td>Action|Crime|Drama|Mystery|Sci-Fi|Thriller</td></tr>\n",
       "<tr><td style=\"text-align: right;\">  4.0</td><td style=\"text-align: right;\">4.0</td><td style=\"text-align: right;\">     2</td><td>[4.1,4.0,3.9]            </td><td style=\"text-align: right;\">               4.3</td><td style=\"text-align: right;\">     48516</td><td>Departed, The (2006)                              </td><td>Crime|Drama|Thriller                      </td></tr>\n",
       "<tr><td style=\"text-align: right;\">  4.0</td><td style=\"text-align: right;\">4.5</td><td style=\"text-align: right;\">     2</td><td>[4.0,4.1,4.0]            </td><td style=\"text-align: right;\">               4.2</td><td style=\"text-align: right;\">     58559</td><td>Dark Knight, The (2008)                           </td><td>Action|Crime|Drama                        </td></tr>\n",
       "<tr><td style=\"text-align: right;\">  4.0</td><td style=\"text-align: right;\">4.0</td><td style=\"text-align: right;\">     2</td><td>[4.0,4.1,3.9]            </td><td style=\"text-align: right;\">               4.0</td><td style=\"text-align: right;\">      6874</td><td>Kill Bill: Vol. 1 (2003)                          </td><td>Action|Crime|Thriller                     </td></tr>\n",
       "<tr><td style=\"text-align: right;\">  4.0</td><td style=\"text-align: right;\">3.5</td><td style=\"text-align: right;\">     2</td><td>[4.0,4.1,4.0,3.9]        </td><td style=\"text-align: right;\">               3.8</td><td style=\"text-align: right;\">      8798</td><td>Collateral (2004)                                 </td><td>Action|Crime|Drama|Thriller               </td></tr>\n",
       "<tr><td style=\"text-align: right;\">  3.9</td><td style=\"text-align: right;\">5.0</td><td style=\"text-align: right;\">     2</td><td>[4.0,4.1,4.0]            </td><td style=\"text-align: right;\">               3.9</td><td style=\"text-align: right;\">    106782</td><td>Wolf of Wall Street, The (2013)                   </td><td>Comedy|Crime|Drama                        </td></tr>\n",
       "<tr><td style=\"text-align: right;\">  3.9</td><td style=\"text-align: right;\">3.5</td><td style=\"text-align: right;\">     2</td><td>[4.0,4.2,4.1]            </td><td style=\"text-align: right;\">               4.0</td><td style=\"text-align: right;\">     91529</td><td>Dark Knight Rises, The (2012)                     </td><td>Action|Adventure|Crime                    </td></tr>\n",
       "<tr><td style=\"text-align: right;\">  3.9</td><td style=\"text-align: right;\">4.0</td><td style=\"text-align: right;\">     2</td><td>[4.0,4.0,3.9]            </td><td style=\"text-align: right;\">               4.0</td><td style=\"text-align: right;\">     74458</td><td>Shutter Island (2010)                             </td><td>Drama|Mystery|Thriller                    </td></tr>\n",
       "<tr><td style=\"text-align: right;\">  3.9</td><td style=\"text-align: right;\">4.5</td><td style=\"text-align: right;\">     2</td><td>[4.1,4.0,3.9]            </td><td style=\"text-align: right;\">               4.0</td><td style=\"text-align: right;\">     80489</td><td>Town, The (2010)                                  </td><td>Crime|Drama|Thriller                      </td></tr>\n",
       "<tr><td style=\"text-align: right;\">  3.8</td><td style=\"text-align: right;\">4.0</td><td style=\"text-align: right;\">     2</td><td>[4.0]                    </td><td style=\"text-align: right;\">               4.0</td><td style=\"text-align: right;\">    112552</td><td>Whiplash (2014)                                   </td><td>Drama                                     </td></tr>\n",
       "<tr><td style=\"text-align: right;\">  3.8</td><td style=\"text-align: right;\">3.0</td><td style=\"text-align: right;\">     2</td><td>[3.9]                    </td><td style=\"text-align: right;\">               4.0</td><td style=\"text-align: right;\">    109487</td><td>Interstellar (2014)                               </td><td>Sci-Fi                                    </td></tr>\n",
       "<tr><td style=\"text-align: right;\">  3.8</td><td style=\"text-align: right;\">5.0</td><td style=\"text-align: right;\">     2</td><td>[4.0]                    </td><td style=\"text-align: right;\">               3.7</td><td style=\"text-align: right;\">     89774</td><td>Warrior (2011)                                    </td><td>Drama                                     </td></tr>\n",
       "<tr><td style=\"text-align: right;\">  3.7</td><td style=\"text-align: right;\">3.0</td><td style=\"text-align: right;\">     2</td><td>[4.0,4.0,3.0]            </td><td style=\"text-align: right;\">               3.9</td><td style=\"text-align: right;\">     71535</td><td>Zombieland (2009)                                 </td><td>Action|Comedy|Horror                      </td></tr>\n",
       "<tr><td style=\"text-align: right;\">  3.7</td><td style=\"text-align: right;\">5.0</td><td style=\"text-align: right;\">     2</td><td>[4.0,4.2,3.9,3.9]        </td><td style=\"text-align: right;\">               3.8</td><td style=\"text-align: right;\">    122882</td><td>Mad Max: Fury Road (2015)                         </td><td>Action|Adventure|Sci-Fi|Thriller          </td></tr>\n",
       "<tr><td style=\"text-align: right;\">  3.5</td><td style=\"text-align: right;\">5.0</td><td style=\"text-align: right;\">     2</td><td>[4.0]                    </td><td style=\"text-align: right;\">               3.6</td><td style=\"text-align: right;\">     60756</td><td>Step Brothers (2008)                              </td><td>Comedy                                    </td></tr>\n",
       "<tr><td style=\"text-align: right;\">  3.5</td><td style=\"text-align: right;\">2.5</td><td style=\"text-align: right;\">     2</td><td>[4.0,3.9]                </td><td style=\"text-align: right;\">               3.5</td><td style=\"text-align: right;\">     91658</td><td>Girl with the Dragon Tattoo, The (2011)           </td><td>Drama|Thriller                            </td></tr>\n",
       "<tr><td style=\"text-align: right;\">  3.1</td><td style=\"text-align: right;\">3.0</td><td style=\"text-align: right;\">     2</td><td>[4.0,4.0]                </td><td style=\"text-align: right;\">               4.0</td><td style=\"text-align: right;\">     77455</td><td>Exit Through the Gift Shop (2010)                 </td><td>Comedy|Documentary                        </td></tr>\n",
       "<tr><td style=\"text-align: right;\">  3.1</td><td style=\"text-align: right;\">4.0</td><td style=\"text-align: right;\">     2</td><td>[4.0,4.0]                </td><td style=\"text-align: right;\">               3.2</td><td style=\"text-align: right;\">     46970</td><td>Talladega Nights: The Ballad of Ricky Bobby (2006)</td><td>Action|Comedy                             </td></tr>\n",
       "</tbody>\n",
       "</table>"
      ],
      "text/plain": [
       "'<table>\\n<thead>\\n<tr><th style=\"text-align: right;\">  y_p</th><th style=\"text-align: right;\">  y</th><th style=\"text-align: right;\">  user</th><th>user genre ave           </th><th style=\"text-align: right;\">  movie rating ave</th><th style=\"text-align: right;\">  movie id</th><th>title                                             </th><th>genres                                    </th></tr>\\n</thead>\\n<tbody>\\n<tr><td style=\"text-align: right;\">  4.5</td><td style=\"text-align: right;\">5.0</td><td style=\"text-align: right;\">     2</td><td>[4.0]                    </td><td style=\"text-align: right;\">               4.3</td><td style=\"text-align: right;\">     80906</td><td>Inside Job (2010)                                 </td><td>Documentary                               </td></tr>\\n<tr><td style=\"text-align: right;\">  4.2</td><td style=\"text-align: right;\">3.5</td><td style=\"text-align: right;\">     2</td><td>[4.0,4.0]                </td><td style=\"text-align: right;\">               3.9</td><td style=\"text-align: right;\">     99114</td><td>Django Unchained (2012)                           </td><td>Action|Drama                              </td></tr>\\n<tr><td style=\"text-align: right;\">  4.1</td><td style=\"text-align: right;\">4.5</td><td style=\"text-align: right;\">     2</td><td>[4.0,4.0]                </td><td style=\"text-align: right;\">               4.1</td><td style=\"text-align: right;\">     68157</td><td>Inglourious Basterds (2009)                       </td><td>Action|Drama                              </td></tr>\\n<tr><td style=\"text-align: right;\">  4.1</td><td style=\"text-align: right;\">3.5</td><td style=\"text-align: right;\">     2</td><td>[4.0,3.9,3.9]            </td><td style=\"text-align: right;\">               3.9</td><td style=\"text-align: right;\">    115713</td><td>Ex Machina (2015)                                 </td><td>Drama|Sci-Fi|Thriller                     </td></tr>\\n<tr><td style=\"text-align: right;\">  4.0</td><td style=\"text-align: right;\">4.0</td><td style=\"text-align: right;\">     2</td><td>[4.0,4.1,4.0,4.0,3.9,3.9]</td><td style=\"text-align: right;\">               4.1</td><td style=\"text-align: right;\">     79132</td><td>Inception (2010)                                  </td><td>Action|Crime|Drama|Mystery|Sci-Fi|Thriller</td></tr>\\n<tr><td style=\"text-align: right;\">  4.0</td><td style=\"text-align: right;\">4.0</td><td style=\"text-align: right;\">     2</td><td>[4.1,4.0,3.9]            </td><td style=\"text-align: right;\">               4.3</td><td style=\"text-align: right;\">     48516</td><td>Departed, The (2006)                              </td><td>Crime|Drama|Thriller                      </td></tr>\\n<tr><td style=\"text-align: right;\">  4.0</td><td style=\"text-align: right;\">4.5</td><td style=\"text-align: right;\">     2</td><td>[4.0,4.1,4.0]            </td><td style=\"text-align: right;\">               4.2</td><td style=\"text-align: right;\">     58559</td><td>Dark Knight, The (2008)                           </td><td>Action|Crime|Drama                        </td></tr>\\n<tr><td style=\"text-align: right;\">  4.0</td><td style=\"text-align: right;\">4.0</td><td style=\"text-align: right;\">     2</td><td>[4.0,4.1,3.9]            </td><td style=\"text-align: right;\">               4.0</td><td style=\"text-align: right;\">      6874</td><td>Kill Bill: Vol. 1 (2003)                          </td><td>Action|Crime|Thriller                     </td></tr>\\n<tr><td style=\"text-align: right;\">  4.0</td><td style=\"text-align: right;\">3.5</td><td style=\"text-align: right;\">     2</td><td>[4.0,4.1,4.0,3.9]        </td><td style=\"text-align: right;\">               3.8</td><td style=\"text-align: right;\">      8798</td><td>Collateral (2004)                                 </td><td>Action|Crime|Drama|Thriller               </td></tr>\\n<tr><td style=\"text-align: right;\">  3.9</td><td style=\"text-align: right;\">5.0</td><td style=\"text-align: right;\">     2</td><td>[4.0,4.1,4.0]            </td><td style=\"text-align: right;\">               3.9</td><td style=\"text-align: right;\">    106782</td><td>Wolf of Wall Street, The (2013)                   </td><td>Comedy|Crime|Drama                        </td></tr>\\n<tr><td style=\"text-align: right;\">  3.9</td><td style=\"text-align: right;\">3.5</td><td style=\"text-align: right;\">     2</td><td>[4.0,4.2,4.1]            </td><td style=\"text-align: right;\">               4.0</td><td style=\"text-align: right;\">     91529</td><td>Dark Knight Rises, The (2012)                     </td><td>Action|Adventure|Crime                    </td></tr>\\n<tr><td style=\"text-align: right;\">  3.9</td><td style=\"text-align: right;\">4.0</td><td style=\"text-align: right;\">     2</td><td>[4.0,4.0,3.9]            </td><td style=\"text-align: right;\">               4.0</td><td style=\"text-align: right;\">     74458</td><td>Shutter Island (2010)                             </td><td>Drama|Mystery|Thriller                    </td></tr>\\n<tr><td style=\"text-align: right;\">  3.9</td><td style=\"text-align: right;\">4.5</td><td style=\"text-align: right;\">     2</td><td>[4.1,4.0,3.9]            </td><td style=\"text-align: right;\">               4.0</td><td style=\"text-align: right;\">     80489</td><td>Town, The (2010)                                  </td><td>Crime|Drama|Thriller                      </td></tr>\\n<tr><td style=\"text-align: right;\">  3.8</td><td style=\"text-align: right;\">4.0</td><td style=\"text-align: right;\">     2</td><td>[4.0]                    </td><td style=\"text-align: right;\">               4.0</td><td style=\"text-align: right;\">    112552</td><td>Whiplash (2014)                                   </td><td>Drama                                     </td></tr>\\n<tr><td style=\"text-align: right;\">  3.8</td><td style=\"text-align: right;\">3.0</td><td style=\"text-align: right;\">     2</td><td>[3.9]                    </td><td style=\"text-align: right;\">               4.0</td><td style=\"text-align: right;\">    109487</td><td>Interstellar (2014)                               </td><td>Sci-Fi                                    </td></tr>\\n<tr><td style=\"text-align: right;\">  3.8</td><td style=\"text-align: right;\">5.0</td><td style=\"text-align: right;\">     2</td><td>[4.0]                    </td><td style=\"text-align: right;\">               3.7</td><td style=\"text-align: right;\">     89774</td><td>Warrior (2011)                                    </td><td>Drama                                     </td></tr>\\n<tr><td style=\"text-align: right;\">  3.7</td><td style=\"text-align: right;\">3.0</td><td style=\"text-align: right;\">     2</td><td>[4.0,4.0,3.0]            </td><td style=\"text-align: right;\">               3.9</td><td style=\"text-align: right;\">     71535</td><td>Zombieland (2009)                                 </td><td>Action|Comedy|Horror                      </td></tr>\\n<tr><td style=\"text-align: right;\">  3.7</td><td style=\"text-align: right;\">5.0</td><td style=\"text-align: right;\">     2</td><td>[4.0,4.2,3.9,3.9]        </td><td style=\"text-align: right;\">               3.8</td><td style=\"text-align: right;\">    122882</td><td>Mad Max: Fury Road (2015)                         </td><td>Action|Adventure|Sci-Fi|Thriller          </td></tr>\\n<tr><td style=\"text-align: right;\">  3.5</td><td style=\"text-align: right;\">5.0</td><td style=\"text-align: right;\">     2</td><td>[4.0]                    </td><td style=\"text-align: right;\">               3.6</td><td style=\"text-align: right;\">     60756</td><td>Step Brothers (2008)                              </td><td>Comedy                                    </td></tr>\\n<tr><td style=\"text-align: right;\">  3.5</td><td style=\"text-align: right;\">2.5</td><td style=\"text-align: right;\">     2</td><td>[4.0,3.9]                </td><td style=\"text-align: right;\">               3.5</td><td style=\"text-align: right;\">     91658</td><td>Girl with the Dragon Tattoo, The (2011)           </td><td>Drama|Thriller                            </td></tr>\\n<tr><td style=\"text-align: right;\">  3.1</td><td style=\"text-align: right;\">3.0</td><td style=\"text-align: right;\">     2</td><td>[4.0,4.0]                </td><td style=\"text-align: right;\">               4.0</td><td style=\"text-align: right;\">     77455</td><td>Exit Through the Gift Shop (2010)                 </td><td>Comedy|Documentary                        </td></tr>\\n<tr><td style=\"text-align: right;\">  3.1</td><td style=\"text-align: right;\">4.0</td><td style=\"text-align: right;\">     2</td><td>[4.0,4.0]                </td><td style=\"text-align: right;\">               3.2</td><td style=\"text-align: right;\">     46970</td><td>Talladega Nights: The Ballad of Ricky Bobby (2006)</td><td>Action|Comedy                             </td></tr>\\n</tbody>\\n</table>'"
      ]
     },
     "execution_count": 20,
     "metadata": {},
     "output_type": "execute_result"
    }
   ],
   "source": [
    "uid = 2 \n",
    "# formar un conjunto de vectores de usuario. Este es el mismo vector, transformado y repetido.\n",
    "user_vecs, y_vecs = get_user_vecs(uid, user_train_unscaled, item_vecs, user_to_genre)\n",
    "\n",
    "# escalamos nuestros vectores de usuario y de elemento\n",
    "suser_vecs = scalerUser.transform(user_vecs)\n",
    "sitem_vecs = scalerItem.transform(item_vecs)\n",
    "\n",
    "# hacer una predicción\n",
    "y_p = model.predict([suser_vecs[:, u_s:], sitem_vecs[:, i_s:]])\n",
    "\n",
    "# predicción y sin escala\n",
    "y_pu = scalerTarget.inverse_transform(y_p)\n",
    "\n",
    "# ordenar los resultados, la predicción más alta primero\n",
    "sorted_index = np.argsort(-y_pu,axis=0).reshape(-1).tolist()  # negativo para obtener la calificación más alta primero\n",
    "sorted_ypu   = y_pu[sorted_index]\n",
    "sorted_items = item_vecs[sorted_index]  #Usando vectores sin escala para visualización\n",
    "sorted_user  = user_vecs[sorted_index]\n",
    "sorted_y     = y_vecs[sorted_index]\n",
    "\n",
    "#imprime predicciones ordenadas para películas calificadas por el usuario\n",
    "print_existing_user(sorted_ypu, sorted_y.reshape(-1,1), sorted_user, sorted_items, ivs, uvs, movie_dict, maxcount = 50)"
   ]
  },
  {
   "cell_type": "markdown",
   "metadata": {},
   "source": [
    "La predicción del modelo generalmente se encuentra dentro de un margen de error de la calificación real, aunque no es un predictor muy preciso de cómo un usuario califica películas específicas. Esto es especialmente cierto si la calificación del usuario es significativamente diferente del promedio del género del usuario. Puede variar la identificación de usuario anterior para probar diferentes usuarios. No se utilizaron todas las identificaciones de usuario en el conjunto de entrenamiento."
   ]
  },
  {
   "cell_type": "markdown",
   "metadata": {},
   "source": [
    "<a name=\"5.3\"></a>\n",
    "### 5.3 - Búsqueda de elementos similares\n",
    "La red neuronal anterior produce dos vectores de características, un vector de características de usuario $v_u$ y un vector de características de película, $v_m$. Se trata de 32 vectores de entrada cuyos valores son difíciles de interpretar. Sin embargo, los elementos similares tendrán vectores similares. Esta información se puede utilizar para hacer recomendaciones. Por ejemplo, si un usuario ha calificado muy bien \"Toy Story 3\", se podrían recomendar películas similares seleccionando películas con vectores de características de película similares.\n",
    "\n",
    "Una medida de similitud es la distancia al cuadrado entre los dos vectores $ \\mathbf{v_m^{(k)}}$ y $\\mathbf{v_m^{(i)}}$ :\n",
    "$$\\left\\Vert \\mathbf{v_m^{(k)}} - \\mathbf{v_m^{(i)}}  \\right\\Vert^2 = \\sum_{l=1}^{n}(v_{m_l}^{(k)} - v_{m_l}^{(i)})^2\\tag{1}$$"
   ]
  },
  {
   "cell_type": "markdown",
   "metadata": {},
   "source": [
    "<a name=\"ex02\"></a>\n",
    "### Función para calcular la distancia al cuadrado."
   ]
  },
  {
   "cell_type": "code",
   "execution_count": 46,
   "metadata": {
    "deletable": false
   },
   "outputs": [],
   "source": [
    "\n",
    "def sq_dist(a,b):\n",
    "    \"\"\"\n",
    "    Devuelve la distancia al cuadrado entre dos vectores\n",
    "    Argumentos:\n",
    "    a (ndarray (n,)): vector con n características\n",
    "    b (ndarray (n,)): vector con n características\n",
    "    Devuelve:\n",
    "    d (float) : distancia\n",
    "    \"\"\"\n",
    "    \n",
    "    #con Numpy\n",
    "    #d = np.sum((a - b)**2)\n",
    "    #d= np.sum(np.square(a - b))\n",
    "    \n",
    "    # con tensorflow\n",
    "    d= tf.reduce_sum(tf.square(a - b))\n",
    "     \n",
    "    return d"
   ]
  },
  {
   "cell_type": "code",
   "execution_count": 47,
   "metadata": {
    "deletable": false,
    "editable": false
   },
   "outputs": [
    {
     "name": "stdout",
     "output_type": "stream",
     "text": [
      "squared distance between a1 and b1: 0.000\n",
      "squared distance between a2 and b2: 0.030\n",
      "squared distance between a3 and b3: 2.000\n"
     ]
    }
   ],
   "source": [
    "a1 = np.array([1.0, 2.0, 3.0]); b1 = np.array([1.0, 2.0, 3.0])\n",
    "a2 = np.array([1.1, 2.1, 3.1]); b2 = np.array([1.0, 2.0, 3.0])\n",
    "a3 = np.array([0, 1, 0]);       b3 = np.array([1, 0, 0])\n",
    "print(f\"squared distance between a1 and b1: {sq_dist(a1, b1):0.3f}\")\n",
    "print(f\"squared distance between a2 and b2: {sq_dist(a2, b2):0.3f}\")\n",
    "print(f\"squared distance between a3 and b3: {sq_dist(a3, b3):0.3f}\")\n",
    "\n",
    "#squared distance between a1 and b1: 0.000    \n",
    "#squared distance between a2 and b2: 0.030   \n",
    "#squared distance between a3 and b3: 2.000"
   ]
  },
  {
   "cell_type": "markdown",
   "metadata": {},
   "source": [
    "Se puede calcular una matriz de distancias entre películas una vez que se entrena el modelo y luego reutilizarla para nuevas recomendaciones sin volver a entrenarlo. El primer paso, una vez que se entrena un modelo, es obtener el vector de características de la película, $v_m$, para cada una de las películas. Para ello, utilizaremos el `item_NN` entrenado y crearemos un modelo pequeño que nos permita ejecutar los vectores de la película a través de él para generar $v_m$."
   ]
  },
  {
   "cell_type": "code",
   "execution_count": 49,
   "metadata": {
    "deletable": false,
    "editable": false
   },
   "outputs": [
    {
     "name": "stdout",
     "output_type": "stream",
     "text": [
      "Model: \"model_1\"\n",
      "__________________________________________________________________________________________________\n",
      "Layer (type)                    Output Shape         Param #     Connected to                     \n",
      "==================================================================================================\n",
      "input_3 (InputLayer)            [(None, 16)]         0                                            \n",
      "__________________________________________________________________________________________________\n",
      "sequential_1 (Sequential)       (None, 32)           41376       input_3[0][0]                    \n",
      "__________________________________________________________________________________________________\n",
      "tf_op_layer_l2_normalize_2/Squa [(None, 32)]         0           sequential_1[1][0]               \n",
      "__________________________________________________________________________________________________\n",
      "tf_op_layer_l2_normalize_2/Sum  [(None, 1)]          0           tf_op_layer_l2_normalize_2/Square\n",
      "__________________________________________________________________________________________________\n",
      "tf_op_layer_l2_normalize_2/Maxi [(None, 1)]          0           tf_op_layer_l2_normalize_2/Sum[0]\n",
      "__________________________________________________________________________________________________\n",
      "tf_op_layer_l2_normalize_2/Rsqr [(None, 1)]          0           tf_op_layer_l2_normalize_2/Maximu\n",
      "__________________________________________________________________________________________________\n",
      "tf_op_layer_l2_normalize_2 (Ten [(None, 32)]         0           sequential_1[1][0]               \n",
      "                                                                 tf_op_layer_l2_normalize_2/Rsqrt[\n",
      "==================================================================================================\n",
      "Total params: 41,376\n",
      "Trainable params: 41,376\n",
      "Non-trainable params: 0\n",
      "__________________________________________________________________________________________________\n"
     ]
    }
   ],
   "source": [
    "input_item_m = tf.keras.layers.Input(shape=(num_item_features))    # input layer\n",
    "vm_m = item_NN(input_item_m)                                       # use e elemento entrenado item_NN, Usar\n",
    "vm_m = tf.linalg.l2_normalize(vm_m, axis=1)                        # Incorporar normalización como se hizo en el modelo original.\n",
    "model_m = tf.keras.Model(input_item_m, vm_m)                                \n",
    "model_m.summary()"
   ]
  },
  {
   "cell_type": "markdown",
   "metadata": {},
   "source": [
    "Una vez que tenga un modelo de película, puede crear un conjunto de vectores de características de película utilizando el modelo para predecir utilizando un conjunto de vectores de elemento/película como entrada. `item_vecs` es un conjunto de todos los vectores de película. Debe escalarse para usarse con el modelo entrenado. El resultado de la predicción es un vector de características de 32 entradas para cada película."
   ]
  },
  {
   "cell_type": "code",
   "execution_count": 50,
   "metadata": {
    "deletable": false,
    "editable": false
   },
   "outputs": [
    {
     "name": "stdout",
     "output_type": "stream",
     "text": [
      "size of all predicted movie feature vectors: (847, 32)\n"
     ]
    }
   ],
   "source": [
    "scaled_item_vecs = scalerItem.transform(item_vecs)\n",
    "vms = model_m.predict(scaled_item_vecs[:,i_s:])\n",
    "print(f\"size of all predicted movie feature vectors: {vms.shape}\")"
   ]
  },
  {
   "cell_type": "markdown",
   "metadata": {},
   "source": [
    "Calculemos ahora una matriz de la distancia al cuadrado entre cada vector de características de la película y todos los demás vectores de características de la película:\n",
    "<figure>\n",
    "    <left> <img src=\"./images/distmatrix.PNG\"   style=\"width:400px;height:225px;\" ></center>\n",
    "</figure>"
   ]
  },
  {
   "cell_type": "markdown",
   "metadata": {},
   "source": [
    "Luego podemos encontrar la película más cercana buscando el mínimo a lo largo de cada fila. Usaremos [matrices enmascaradas de numpy](https://numpy.org/doc/1.21/user/tutorial-ma.html) para evitar seleccionar la misma película. Los valores enmascarados a lo largo de la diagonal no se incluirán en el cálculo."
   ]
  },
  {
   "cell_type": "code",
   "execution_count": 51,
   "metadata": {
    "deletable": false,
    "editable": false
   },
   "outputs": [
    {
     "data": {
      "text/html": [
       "<table>\n",
       "<thead>\n",
       "<tr><th>movie1                                  </th><th>genres                                             </th><th>movie2                                             </th><th>genres                                             </th></tr>\n",
       "</thead>\n",
       "<tbody>\n",
       "<tr><td>Save the Last Dance (2001)              </td><td>Drama|Romance                                      </td><td>Mona Lisa Smile (2003)                             </td><td>Drama|Romance                                      </td></tr>\n",
       "<tr><td>Wedding Planner, The (2001)             </td><td>Comedy|Romance                                     </td><td>Mr. Deeds (2002)                                   </td><td>Comedy|Romance                                     </td></tr>\n",
       "<tr><td>Hannibal (2001)                         </td><td>Horror|Thriller                                    </td><td>Final Destination 2 (2003)                         </td><td>Horror|Thriller                                    </td></tr>\n",
       "<tr><td>Saving Silverman (Evil Woman) (2001)    </td><td>Comedy|Romance                                     </td><td>Down with Love (2003)                              </td><td>Comedy|Romance                                     </td></tr>\n",
       "<tr><td>Down to Earth (2001)                    </td><td>Comedy|Fantasy|Romance                             </td><td>Bewitched (2005)                                   </td><td>Comedy|Fantasy|Romance                             </td></tr>\n",
       "<tr><td>Mexican, The (2001)                     </td><td>Action|Comedy                                      </td><td>Rush Hour 2 (2001)                                 </td><td>Action|Comedy                                      </td></tr>\n",
       "<tr><td>15 Minutes (2001)                       </td><td>Thriller                                           </td><td>Panic Room (2002)                                  </td><td>Thriller                                           </td></tr>\n",
       "<tr><td>Enemy at the Gates (2001)               </td><td>Drama                                              </td><td>Kung Fu Hustle (Gong fu) (2004)                    </td><td>Drama                                              </td></tr>\n",
       "<tr><td>Heartbreakers (2001)                    </td><td>Comedy|Crime|Romance                               </td><td>Fun with Dick and Jane (2005)                      </td><td>Comedy|Crime|Romance                               </td></tr>\n",
       "<tr><td>Spy Kids (2001)                         </td><td>Action|Adventure|Children|Comedy                   </td><td>Tuxedo, The (2002)                                 </td><td>Action|Adventure|Children|Comedy                   </td></tr>\n",
       "<tr><td>Along Came a Spider (2001)              </td><td>Action|Crime|Mystery|Thriller                      </td><td>Insomnia (2002)                                    </td><td>Action|Crime|Mystery|Thriller                      </td></tr>\n",
       "<tr><td>Blow (2001)                             </td><td>Crime|Drama                                        </td><td>25th Hour (2002)                                   </td><td>Crime|Drama                                        </td></tr>\n",
       "<tr><td>Bridget Jones&#x27;s Diary (2001)            </td><td>Comedy|Drama|Romance                               </td><td>Punch-Drunk Love (2002)                            </td><td>Comedy|Drama|Romance                               </td></tr>\n",
       "<tr><td>Joe Dirt (2001)                         </td><td>Adventure|Comedy|Mystery|Romance                   </td><td>Polar Express, The (2004)                          </td><td>Adventure|Comedy|Mystery|Romance                   </td></tr>\n",
       "<tr><td>Crocodile Dundee in Los Angeles (2001)  </td><td>Comedy|Drama                                       </td><td>Bewitched (2005)                                   </td><td>Comedy|Drama                                       </td></tr>\n",
       "<tr><td>Mummy Returns, The (2001)               </td><td>Action|Adventure|Comedy|Thriller                   </td><td>Rundown, The (2003)                                </td><td>Action|Adventure|Comedy|Thriller                   </td></tr>\n",
       "<tr><td>Knight&#x27;s Tale, A (2001)                 </td><td>Action|Comedy|Romance                              </td><td>Legally Blonde (2001)                              </td><td>Action|Comedy|Romance                              </td></tr>\n",
       "<tr><td>Shrek (2001)                            </td><td>Adventure|Animation|Children|Comedy|Fantasy|Romance</td><td>Tangled (2010)                                     </td><td>Adventure|Animation|Children|Comedy|Fantasy|Romance</td></tr>\n",
       "<tr><td>Moulin Rouge (2001)                     </td><td>Drama|Romance                                      </td><td>Notebook, The (2004)                               </td><td>Drama|Romance                                      </td></tr>\n",
       "<tr><td>Pearl Harbor (2001)                     </td><td>Action|Drama|Romance                               </td><td>Bridget Jones: The Edge of Reason (2004)           </td><td>Action|Drama|Romance                               </td></tr>\n",
       "<tr><td>Animal, The (2001)                      </td><td>Comedy                                             </td><td>Dumb and Dumberer: When Harry Met Lloyd (2003)     </td><td>Comedy                                             </td></tr>\n",
       "<tr><td>Evolution (2001)                        </td><td>Comedy|Sci-Fi                                      </td><td>Behind Enemy Lines (2001)                          </td><td>Comedy|Sci-Fi                                      </td></tr>\n",
       "<tr><td>Swordfish (2001)                        </td><td>Action|Crime|Drama                                 </td><td>We Were Soldiers (2002)                            </td><td>Action|Crime|Drama                                 </td></tr>\n",
       "<tr><td>Atlantis: The Lost Empire (2001)        </td><td>Adventure|Animation|Children|Fantasy               </td><td>Cloudy with a Chance of Meatballs (2009)           </td><td>Adventure|Animation|Children|Fantasy               </td></tr>\n",
       "<tr><td>Lara Croft: Tomb Raider (2001)          </td><td>Action|Adventure                                   </td><td>National Treasure: Book of Secrets (2007)          </td><td>Action|Adventure                                   </td></tr>\n",
       "<tr><td>Dr. Dolittle 2 (2001)                   </td><td>Comedy                                             </td><td>Legally Blonde 2: Red, White &amp; Blonde (2003)       </td><td>Comedy                                             </td></tr>\n",
       "<tr><td>Fast and the Furious, The (2001)        </td><td>Action|Crime|Thriller                              </td><td>xXx (2002)                                         </td><td>Action|Crime|Thriller                              </td></tr>\n",
       "<tr><td>A.I. Artificial Intelligence (2001)     </td><td>Adventure|Drama|Sci-Fi                             </td><td>Bubba Ho-tep (2002)                                </td><td>Adventure|Drama|Sci-Fi                             </td></tr>\n",
       "<tr><td>Cats &amp; Dogs (2001)                      </td><td>Children|Comedy                                    </td><td>Robots (2005)                                      </td><td>Children|Comedy                                    </td></tr>\n",
       "<tr><td>Scary Movie 2 (2001)                    </td><td>Comedy                                             </td><td>Orange County (2002)                               </td><td>Comedy                                             </td></tr>\n",
       "<tr><td>Final Fantasy: The Spirits Within (2001)</td><td>Adventure|Animation|Fantasy|Sci-Fi                 </td><td>Madagascar: Escape 2 Africa (2008)                 </td><td>Adventure|Animation|Fantasy|Sci-Fi                 </td></tr>\n",
       "<tr><td>Legally Blonde (2001)                   </td><td>Comedy|Romance                                     </td><td>Serendipity (2001)                                 </td><td>Comedy|Romance                                     </td></tr>\n",
       "<tr><td>Score, The (2001)                       </td><td>Action|Drama                                       </td><td>Punisher, The (2004)                               </td><td>Action|Drama                                       </td></tr>\n",
       "<tr><td>Jurassic Park III (2001)                </td><td>Action|Adventure|Sci-Fi|Thriller                   </td><td>Men in Black II (a.k.a. MIIB) (a.k.a. MIB 2) (2002)</td><td>Action|Adventure|Sci-Fi|Thriller                   </td></tr>\n",
       "<tr><td>America&#x27;s Sweethearts (2001)            </td><td>Comedy|Romance                                     </td><td>Maid in Manhattan (2002)                           </td><td>Comedy|Romance                                     </td></tr>\n",
       "<tr><td>Ghost World (2001)                      </td><td>Comedy|Drama                                       </td><td>Station Agent, The (2003)                          </td><td>Comedy|Drama                                       </td></tr>\n",
       "<tr><td>Planet of the Apes (2001)               </td><td>Action|Adventure|Drama|Sci-Fi                      </td><td>Day After Tomorrow, The (2004)                     </td><td>Action|Adventure|Drama|Sci-Fi                      </td></tr>\n",
       "<tr><td>Princess Diaries, The (2001)            </td><td>Children|Comedy|Romance                            </td><td>Lake House, The (2006)                             </td><td>Children|Comedy|Romance                            </td></tr>\n",
       "<tr><td>Rush Hour 2 (2001)                      </td><td>Action|Comedy                                      </td><td>Mexican, The (2001)                                </td><td>Action|Comedy                                      </td></tr>\n",
       "<tr><td>American Pie 2 (2001)                   </td><td>Comedy                                             </td><td>Rat Race (2001)                                    </td><td>Comedy                                             </td></tr>\n",
       "<tr><td>Others, The (2001)                      </td><td>Drama|Horror|Mystery|Thriller                      </td><td>The Machinist (2004)                               </td><td>Drama|Horror|Mystery|Thriller                      </td></tr>\n",
       "<tr><td>Rat Race (2001)                         </td><td>Comedy                                             </td><td>American Pie 2 (2001)                              </td><td>Comedy                                             </td></tr>\n",
       "<tr><td>Jay and Silent Bob Strike Back (2001)   </td><td>Adventure|Comedy                                   </td><td>Mexican, The (2001)                                </td><td>Adventure|Comedy                                   </td></tr>\n",
       "<tr><td>Training Day (2001)                     </td><td>Crime|Drama|Thriller                               </td><td>Frailty (2001)                                     </td><td>Crime|Drama|Thriller                               </td></tr>\n",
       "<tr><td>Zoolander (2001)                        </td><td>Comedy                                             </td><td>Old School (2003)                                  </td><td>Comedy                                             </td></tr>\n",
       "<tr><td>Serendipity (2001)                      </td><td>Comedy|Romance                                     </td><td>Legally Blonde (2001)                              </td><td>Comedy|Romance                                     </td></tr>\n",
       "<tr><td>Mulholland Drive (2001)                 </td><td>Crime|Drama|Mystery|Thriller                       </td><td>Prisoners (2013)                                   </td><td>Crime|Drama|Mystery|Thriller                       </td></tr>\n",
       "<tr><td>From Hell (2001)                        </td><td>Crime|Horror|Mystery|Thriller                      </td><td>Identity (2003)                                    </td><td>Crime|Horror|Mystery|Thriller                      </td></tr>\n",
       "<tr><td>Waking Life (2001)                      </td><td>Animation|Drama|Fantasy                            </td><td>Warm Bodies (2013)                                 </td><td>Animation|Drama|Fantasy                            </td></tr>\n",
       "<tr><td>K-PAX (2001)                            </td><td>Drama|Fantasy|Mystery|Sci-Fi                       </td><td>Gosford Park (2001)                                </td><td>Drama|Fantasy|Mystery|Sci-Fi                       </td></tr>\n",
       "</tbody>\n",
       "</table>"
      ],
      "text/plain": [
       "'<table>\\n<thead>\\n<tr><th>movie1                                  </th><th>genres                                             </th><th>movie2                                             </th><th>genres                                             </th></tr>\\n</thead>\\n<tbody>\\n<tr><td>Save the Last Dance (2001)              </td><td>Drama|Romance                                      </td><td>Mona Lisa Smile (2003)                             </td><td>Drama|Romance                                      </td></tr>\\n<tr><td>Wedding Planner, The (2001)             </td><td>Comedy|Romance                                     </td><td>Mr. Deeds (2002)                                   </td><td>Comedy|Romance                                     </td></tr>\\n<tr><td>Hannibal (2001)                         </td><td>Horror|Thriller                                    </td><td>Final Destination 2 (2003)                         </td><td>Horror|Thriller                                    </td></tr>\\n<tr><td>Saving Silverman (Evil Woman) (2001)    </td><td>Comedy|Romance                                     </td><td>Down with Love (2003)                              </td><td>Comedy|Romance                                     </td></tr>\\n<tr><td>Down to Earth (2001)                    </td><td>Comedy|Fantasy|Romance                             </td><td>Bewitched (2005)                                   </td><td>Comedy|Fantasy|Romance                             </td></tr>\\n<tr><td>Mexican, The (2001)                     </td><td>Action|Comedy                                      </td><td>Rush Hour 2 (2001)                                 </td><td>Action|Comedy                                      </td></tr>\\n<tr><td>15 Minutes (2001)                       </td><td>Thriller                                           </td><td>Panic Room (2002)                                  </td><td>Thriller                                           </td></tr>\\n<tr><td>Enemy at the Gates (2001)               </td><td>Drama                                              </td><td>Kung Fu Hustle (Gong fu) (2004)                    </td><td>Drama                                              </td></tr>\\n<tr><td>Heartbreakers (2001)                    </td><td>Comedy|Crime|Romance                               </td><td>Fun with Dick and Jane (2005)                      </td><td>Comedy|Crime|Romance                               </td></tr>\\n<tr><td>Spy Kids (2001)                         </td><td>Action|Adventure|Children|Comedy                   </td><td>Tuxedo, The (2002)                                 </td><td>Action|Adventure|Children|Comedy                   </td></tr>\\n<tr><td>Along Came a Spider (2001)              </td><td>Action|Crime|Mystery|Thriller                      </td><td>Insomnia (2002)                                    </td><td>Action|Crime|Mystery|Thriller                      </td></tr>\\n<tr><td>Blow (2001)                             </td><td>Crime|Drama                                        </td><td>25th Hour (2002)                                   </td><td>Crime|Drama                                        </td></tr>\\n<tr><td>Bridget Jones&#x27;s Diary (2001)            </td><td>Comedy|Drama|Romance                               </td><td>Punch-Drunk Love (2002)                            </td><td>Comedy|Drama|Romance                               </td></tr>\\n<tr><td>Joe Dirt (2001)                         </td><td>Adventure|Comedy|Mystery|Romance                   </td><td>Polar Express, The (2004)                          </td><td>Adventure|Comedy|Mystery|Romance                   </td></tr>\\n<tr><td>Crocodile Dundee in Los Angeles (2001)  </td><td>Comedy|Drama                                       </td><td>Bewitched (2005)                                   </td><td>Comedy|Drama                                       </td></tr>\\n<tr><td>Mummy Returns, The (2001)               </td><td>Action|Adventure|Comedy|Thriller                   </td><td>Rundown, The (2003)                                </td><td>Action|Adventure|Comedy|Thriller                   </td></tr>\\n<tr><td>Knight&#x27;s Tale, A (2001)                 </td><td>Action|Comedy|Romance                              </td><td>Legally Blonde (2001)                              </td><td>Action|Comedy|Romance                              </td></tr>\\n<tr><td>Shrek (2001)                            </td><td>Adventure|Animation|Children|Comedy|Fantasy|Romance</td><td>Tangled (2010)                                     </td><td>Adventure|Animation|Children|Comedy|Fantasy|Romance</td></tr>\\n<tr><td>Moulin Rouge (2001)                     </td><td>Drama|Romance                                      </td><td>Notebook, The (2004)                               </td><td>Drama|Romance                                      </td></tr>\\n<tr><td>Pearl Harbor (2001)                     </td><td>Action|Drama|Romance                               </td><td>Bridget Jones: The Edge of Reason (2004)           </td><td>Action|Drama|Romance                               </td></tr>\\n<tr><td>Animal, The (2001)                      </td><td>Comedy                                             </td><td>Dumb and Dumberer: When Harry Met Lloyd (2003)     </td><td>Comedy                                             </td></tr>\\n<tr><td>Evolution (2001)                        </td><td>Comedy|Sci-Fi                                      </td><td>Behind Enemy Lines (2001)                          </td><td>Comedy|Sci-Fi                                      </td></tr>\\n<tr><td>Swordfish (2001)                        </td><td>Action|Crime|Drama                                 </td><td>We Were Soldiers (2002)                            </td><td>Action|Crime|Drama                                 </td></tr>\\n<tr><td>Atlantis: The Lost Empire (2001)        </td><td>Adventure|Animation|Children|Fantasy               </td><td>Cloudy with a Chance of Meatballs (2009)           </td><td>Adventure|Animation|Children|Fantasy               </td></tr>\\n<tr><td>Lara Croft: Tomb Raider (2001)          </td><td>Action|Adventure                                   </td><td>National Treasure: Book of Secrets (2007)          </td><td>Action|Adventure                                   </td></tr>\\n<tr><td>Dr. Dolittle 2 (2001)                   </td><td>Comedy                                             </td><td>Legally Blonde 2: Red, White &amp; Blonde (2003)       </td><td>Comedy                                             </td></tr>\\n<tr><td>Fast and the Furious, The (2001)        </td><td>Action|Crime|Thriller                              </td><td>xXx (2002)                                         </td><td>Action|Crime|Thriller                              </td></tr>\\n<tr><td>A.I. Artificial Intelligence (2001)     </td><td>Adventure|Drama|Sci-Fi                             </td><td>Bubba Ho-tep (2002)                                </td><td>Adventure|Drama|Sci-Fi                             </td></tr>\\n<tr><td>Cats &amp; Dogs (2001)                      </td><td>Children|Comedy                                    </td><td>Robots (2005)                                      </td><td>Children|Comedy                                    </td></tr>\\n<tr><td>Scary Movie 2 (2001)                    </td><td>Comedy                                             </td><td>Orange County (2002)                               </td><td>Comedy                                             </td></tr>\\n<tr><td>Final Fantasy: The Spirits Within (2001)</td><td>Adventure|Animation|Fantasy|Sci-Fi                 </td><td>Madagascar: Escape 2 Africa (2008)                 </td><td>Adventure|Animation|Fantasy|Sci-Fi                 </td></tr>\\n<tr><td>Legally Blonde (2001)                   </td><td>Comedy|Romance                                     </td><td>Serendipity (2001)                                 </td><td>Comedy|Romance                                     </td></tr>\\n<tr><td>Score, The (2001)                       </td><td>Action|Drama                                       </td><td>Punisher, The (2004)                               </td><td>Action|Drama                                       </td></tr>\\n<tr><td>Jurassic Park III (2001)                </td><td>Action|Adventure|Sci-Fi|Thriller                   </td><td>Men in Black II (a.k.a. MIIB) (a.k.a. MIB 2) (2002)</td><td>Action|Adventure|Sci-Fi|Thriller                   </td></tr>\\n<tr><td>America&#x27;s Sweethearts (2001)            </td><td>Comedy|Romance                                     </td><td>Maid in Manhattan (2002)                           </td><td>Comedy|Romance                                     </td></tr>\\n<tr><td>Ghost World (2001)                      </td><td>Comedy|Drama                                       </td><td>Station Agent, The (2003)                          </td><td>Comedy|Drama                                       </td></tr>\\n<tr><td>Planet of the Apes (2001)               </td><td>Action|Adventure|Drama|Sci-Fi                      </td><td>Day After Tomorrow, The (2004)                     </td><td>Action|Adventure|Drama|Sci-Fi                      </td></tr>\\n<tr><td>Princess Diaries, The (2001)            </td><td>Children|Comedy|Romance                            </td><td>Lake House, The (2006)                             </td><td>Children|Comedy|Romance                            </td></tr>\\n<tr><td>Rush Hour 2 (2001)                      </td><td>Action|Comedy                                      </td><td>Mexican, The (2001)                                </td><td>Action|Comedy                                      </td></tr>\\n<tr><td>American Pie 2 (2001)                   </td><td>Comedy                                             </td><td>Rat Race (2001)                                    </td><td>Comedy                                             </td></tr>\\n<tr><td>Others, The (2001)                      </td><td>Drama|Horror|Mystery|Thriller                      </td><td>The Machinist (2004)                               </td><td>Drama|Horror|Mystery|Thriller                      </td></tr>\\n<tr><td>Rat Race (2001)                         </td><td>Comedy                                             </td><td>American Pie 2 (2001)                              </td><td>Comedy                                             </td></tr>\\n<tr><td>Jay and Silent Bob Strike Back (2001)   </td><td>Adventure|Comedy                                   </td><td>Mexican, The (2001)                                </td><td>Adventure|Comedy                                   </td></tr>\\n<tr><td>Training Day (2001)                     </td><td>Crime|Drama|Thriller                               </td><td>Frailty (2001)                                     </td><td>Crime|Drama|Thriller                               </td></tr>\\n<tr><td>Zoolander (2001)                        </td><td>Comedy                                             </td><td>Old School (2003)                                  </td><td>Comedy                                             </td></tr>\\n<tr><td>Serendipity (2001)                      </td><td>Comedy|Romance                                     </td><td>Legally Blonde (2001)                              </td><td>Comedy|Romance                                     </td></tr>\\n<tr><td>Mulholland Drive (2001)                 </td><td>Crime|Drama|Mystery|Thriller                       </td><td>Prisoners (2013)                                   </td><td>Crime|Drama|Mystery|Thriller                       </td></tr>\\n<tr><td>From Hell (2001)                        </td><td>Crime|Horror|Mystery|Thriller                      </td><td>Identity (2003)                                    </td><td>Crime|Horror|Mystery|Thriller                      </td></tr>\\n<tr><td>Waking Life (2001)                      </td><td>Animation|Drama|Fantasy                            </td><td>Warm Bodies (2013)                                 </td><td>Animation|Drama|Fantasy                            </td></tr>\\n<tr><td>K-PAX (2001)                            </td><td>Drama|Fantasy|Mystery|Sci-Fi                       </td><td>Gosford Park (2001)                                </td><td>Drama|Fantasy|Mystery|Sci-Fi                       </td></tr>\\n</tbody>\\n</table>'"
      ]
     },
     "execution_count": 51,
     "metadata": {},
     "output_type": "execute_result"
    }
   ],
   "source": [
    "count = 50 # número de películas a mostrar\n",
    "dim = len(vms)\n",
    "dist = np.zeros((dim,dim))\n",
    "\n",
    "for i in range(dim):\n",
    "    for j in range(dim):\n",
    "        dist[i,j] = sq_dist(vms[i, :], vms[j, :])\n",
    "        \n",
    "m_dist = ma.masked_array(dist, mask=np.identity(dist.shape[0]))  # enmascarar la diagonal\n",
    "\n",
    "disp = [[\"movie1\", \"genres\", \"movie2\", \"genres\"]]\n",
    "for i in range(count):\n",
    "    min_idx = np.argmin(m_dist[i])\n",
    "    movie1_id = int(item_vecs[i,0])\n",
    "    movie2_id = int(item_vecs[min_idx,0])\n",
    "    disp.append( [movie_dict[movie1_id]['title'], movie_dict[movie1_id]['genres'],\n",
    "                  movie_dict[movie2_id]['title'], movie_dict[movie1_id]['genres']]\n",
    "               )\n",
    "table = tabulate.tabulate(disp, tablefmt='html', headers=\"firstrow\")\n",
    "table"
   ]
  },
  {
   "cell_type": "markdown",
   "metadata": {},
   "source": [
    "Los resultados muestran que el modelo generalmente sugerirá una película con géneros similares."
   ]
  },
  {
   "cell_type": "markdown",
   "metadata": {},
   "source": [
    "6. Sitema De Recomendacion: Estos Sistemas pueden ser divididos en dos tipos principales:\n",
    "\n",
    "1. Recomendación basada en contenido:\n",
    "Un sistema de recomendación basado en contenido es un tipo de sistema de recomendación que utiliza el contenido del artículo (o objeto) para predecir su popularidad o relevancia. Este tipo de sistema puede ser utilizado para recomendar artículos similares al que un usuario está interesado, o para recomendar artículos que podrían gustarle al usuario según sus preferencias y intereses.\n",
    "\n",
    "Ejemplos de sistemas de recomendación basados en contenido: Netflix, Amazon, Spotify, Hulu, etc.\n",
    "\n",
    "2. Recomendación basada en usuarios:\n",
    "\n",
    "Un sistema de recomendación basado en usuarios es un tipo de sistema de recomendación que utiliza la información del comportamiento de los usuarios para predecir su preferencia o interés en un nuevo artículo. Este tipo de sistema puede ser utilizado para recomendar artículos que podrían gustarle al usuario según sus preferencias y intereses.\n",
    "\n",
    "Ejemplos de sistemas de recomendación basados en usuarios: Amazon, Facebook, Google My Business, Netflix, etc.\n",
    "\n",
    "3. Recomendación basada en similitud:\n",
    "\n",
    "Este tipo de sistema utiliza una medida de similitud entre los artículos para recomendar aquellos que podrían gustarle más al usuario. La medida de similitud puede ser el producto escalar de los vectores de características de los artículos, la distancia euclidiana, la correlación de Pearson, la correlación de Spearman, la distancia coseno, etc.\n",
    "\n",
    "Ejemplos de sistemas de recomendación basados en similitud: Amazon, Netflix, Spotify, Hulu, etc.\n",
    "\n",
    "4. Recomendación basada en contenido y usuarios:\n",
    "\n",
    "Este tipo de sistema utiliza la información del comportamiento de los usuarios y el contenido del artículo para predecir su popularidad o relevancia. Este tipo de sistema puede ser utilizado para recomendar artículos que podrían gustarle al usuario según sus preferencias y intereses.\n",
    "\n",
    "Ejemplos de sistemas de recomendación basados en contenido y usuarios: Amazon, Netflix, Spotify, Hulu, etc.\n",
    "\n",
    "\n",
    "Un ejemplo de cómo se puede implementar un sistema de recomendación basado en contenido basada en similitud es utilizando la distancia euclidiana:\n",
    "\n",
    "**Nota:Esta estructura es la base de muchos sistemas de recomendación comerciales. El contenido del usuario se puede ampliar en gran medida para incorporar más información sobre el usuario si está disponible. Los artículos no se limitan a películas. Esto se puede utilizar para recomendar cualquier artículo, libros, automóviles o artículos que sean similares a un artículo en su \"carrito de compras\".**"
   ]
  },
  {
   "cell_type": "markdown",
   "metadata": {},
   "source": [
    "### Para implementar un sistema de recomendación, es importante tener en cuenta las siguientes consideraciones:\n",
    "\n",
    "- Se debe seleccionar un conjunto de artículos de referencia para calcular la similitud.\n",
    "\n",
    "- Se debe seleccionar un método de similitud adecuado para calcular la similitud entre los artículos. La distancia euclidiana es común, pero también se puede utilizar la distancia de Manhattan, la distancia de Minkowski, la distancia de Chebyshev, etc.\n",
    "\n",
    "- Se debe seleccionar un algoritmo de agrupamiento para agrupar los artículos similares. Los algoritmos más comunes incluyen K-means, Mean-Shift, DBSCAN, etc.\n",
    "\n",
    "- Se debe seleccionar un algoritmo de recomendación para predecir la popularidad o relevancia de un nuevo artículo. Los algoritmos más comunes incluyen la regresión lineal, la regresión logística, el modelo de vecinos más cercanos, etc.\n",
    "\n",
    "- Se debe seleccionar un criterio de selección de artículos recomendados para un usuario. Por ejemplo, se puede seleccionar los artículos más populares, los artículos más recientes, los artículos más similares al usuario, etc.\n",
    "\n",
    "- Se debe seleccionar un criterio de calificación para evaluar el rendimiento del sistema de recomendación. Por ejemplo, se puede utilizar la precisión, la exhaustividad, el recall, el F1 score, etc.\n",
    "\n",
    "- Se debe seleccionar un conjunto de datos de entrenamiento y un conjunto de datos de prueba para evaluar el rendimiento del sistema de recomendación.\n",
    "\n",
    "- Se debe seleccionar un sistema de almacenamiento para almacenar y recuperar la información de los usuarios y los artículos. Los sistemas más comunes incluyen las bases de datos relacionales, las bases de datos NoSQL, las bases de datos de tiempo real, etc."
   ]
  }
 ],
 "metadata": {
  "colab": {
   "authorship_tag": "ABX9TyOFYdA6zQJ1FpgYwYmRIeXa",
   "collapsed_sections": [],
   "name": "Recsys_NN.ipynb",
   "private_outputs": true,
   "provenance": [
    {
     "file_id": "1RO0HLb7kRE0Tj_0D4E5I-vQz2QLu3CUm",
     "timestamp": 1655169179306
    }
   ]
  },
  "gpuClass": "standard",
  "kernelspec": {
   "display_name": "Python 3",
   "language": "python",
   "name": "python3"
  },
  "language_info": {
   "codemirror_mode": {
    "name": "ipython",
    "version": 3
   },
   "file_extension": ".py",
   "mimetype": "text/x-python",
   "name": "python",
   "nbconvert_exporter": "python",
   "pygments_lexer": "ipython3",
   "version": "3.7.6"
  }
 },
 "nbformat": 4,
 "nbformat_minor": 4
}
